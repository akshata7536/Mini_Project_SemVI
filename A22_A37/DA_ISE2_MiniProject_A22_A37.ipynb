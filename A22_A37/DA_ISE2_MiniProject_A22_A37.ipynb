{
  "cells": [
    {
      "cell_type": "markdown",
      "metadata": {
        "id": "QWLdhCOEnLXC"
      },
      "source": [
        "# DATA  ANALYTICS       \n",
        "\n",
        "---\n",
        "```\n",
        "MINI PROJECT\n",
        "```\n",
        "---\n",
        "\n",
        "\n",
        " ***`Housing Price Prediction`***  \n",
        "\n",
        "\n",
        "*   A22 Dhanashri Kasture\n",
        "*   A37 Akshata Kulkarni\n"
      ]
    },
    {
      "cell_type": "code",
      "execution_count": null,
      "metadata": {
        "id": "FkYNnynC3J7D"
      },
      "outputs": [],
      "source": [
        "import pandas as pd"
      ]
    },
    {
      "cell_type": "code",
      "execution_count": null,
      "metadata": {
        "id": "EgZd-LCy3XT5"
      },
      "outputs": [],
      "source": [
        "df = pd.read_csv('/content/housepricedata (1).csv')"
      ]
    },
    {
      "cell_type": "code",
      "execution_count": null,
      "metadata": {
        "colab": {
          "base_uri": "https://localhost:8080/",
          "height": 468
        },
        "id": "D8pE4oDx4EPE",
        "outputId": "ea3aed10-3b4f-4553-8ded-9ab22e360c04"
      },
      "outputs": [
        {
          "data": {
            "text/html": [
              "\n",
              "  <div id=\"df-1805726f-7bdf-4600-9883-4e3da4dde797\">\n",
              "    <div class=\"colab-df-container\">\n",
              "      <div>\n",
              "<style scoped>\n",
              "    .dataframe tbody tr th:only-of-type {\n",
              "        vertical-align: middle;\n",
              "    }\n",
              "\n",
              "    .dataframe tbody tr th {\n",
              "        vertical-align: top;\n",
              "    }\n",
              "\n",
              "    .dataframe thead th {\n",
              "        text-align: right;\n",
              "    }\n",
              "</style>\n",
              "<table border=\"1\" class=\"dataframe\">\n",
              "  <thead>\n",
              "    <tr style=\"text-align: right;\">\n",
              "      <th></th>\n",
              "      <th>LotArea</th>\n",
              "      <th>OverallQual</th>\n",
              "      <th>OverallCond</th>\n",
              "      <th>TotalBsmtSF</th>\n",
              "      <th>FullBath</th>\n",
              "      <th>HalfBath</th>\n",
              "      <th>BedroomAbvGr</th>\n",
              "      <th>TotRmsAbvGrd</th>\n",
              "      <th>Fireplaces</th>\n",
              "      <th>GarageArea</th>\n",
              "      <th>AboveMedianPrice</th>\n",
              "    </tr>\n",
              "  </thead>\n",
              "  <tbody>\n",
              "    <tr>\n",
              "      <th>0</th>\n",
              "      <td>8450</td>\n",
              "      <td>7</td>\n",
              "      <td>5</td>\n",
              "      <td>856</td>\n",
              "      <td>2</td>\n",
              "      <td>1</td>\n",
              "      <td>3</td>\n",
              "      <td>8</td>\n",
              "      <td>0</td>\n",
              "      <td>548</td>\n",
              "      <td>1</td>\n",
              "    </tr>\n",
              "    <tr>\n",
              "      <th>1</th>\n",
              "      <td>9600</td>\n",
              "      <td>6</td>\n",
              "      <td>8</td>\n",
              "      <td>1262</td>\n",
              "      <td>2</td>\n",
              "      <td>0</td>\n",
              "      <td>3</td>\n",
              "      <td>6</td>\n",
              "      <td>1</td>\n",
              "      <td>460</td>\n",
              "      <td>1</td>\n",
              "    </tr>\n",
              "    <tr>\n",
              "      <th>2</th>\n",
              "      <td>11250</td>\n",
              "      <td>7</td>\n",
              "      <td>5</td>\n",
              "      <td>920</td>\n",
              "      <td>2</td>\n",
              "      <td>1</td>\n",
              "      <td>3</td>\n",
              "      <td>6</td>\n",
              "      <td>1</td>\n",
              "      <td>608</td>\n",
              "      <td>1</td>\n",
              "    </tr>\n",
              "    <tr>\n",
              "      <th>3</th>\n",
              "      <td>9550</td>\n",
              "      <td>7</td>\n",
              "      <td>5</td>\n",
              "      <td>756</td>\n",
              "      <td>1</td>\n",
              "      <td>0</td>\n",
              "      <td>3</td>\n",
              "      <td>7</td>\n",
              "      <td>1</td>\n",
              "      <td>642</td>\n",
              "      <td>0</td>\n",
              "    </tr>\n",
              "    <tr>\n",
              "      <th>4</th>\n",
              "      <td>14260</td>\n",
              "      <td>8</td>\n",
              "      <td>5</td>\n",
              "      <td>1145</td>\n",
              "      <td>2</td>\n",
              "      <td>1</td>\n",
              "      <td>4</td>\n",
              "      <td>9</td>\n",
              "      <td>1</td>\n",
              "      <td>836</td>\n",
              "      <td>1</td>\n",
              "    </tr>\n",
              "    <tr>\n",
              "      <th>...</th>\n",
              "      <td>...</td>\n",
              "      <td>...</td>\n",
              "      <td>...</td>\n",
              "      <td>...</td>\n",
              "      <td>...</td>\n",
              "      <td>...</td>\n",
              "      <td>...</td>\n",
              "      <td>...</td>\n",
              "      <td>...</td>\n",
              "      <td>...</td>\n",
              "      <td>...</td>\n",
              "    </tr>\n",
              "    <tr>\n",
              "      <th>1455</th>\n",
              "      <td>7917</td>\n",
              "      <td>6</td>\n",
              "      <td>5</td>\n",
              "      <td>953</td>\n",
              "      <td>2</td>\n",
              "      <td>1</td>\n",
              "      <td>3</td>\n",
              "      <td>7</td>\n",
              "      <td>1</td>\n",
              "      <td>460</td>\n",
              "      <td>1</td>\n",
              "    </tr>\n",
              "    <tr>\n",
              "      <th>1456</th>\n",
              "      <td>13175</td>\n",
              "      <td>6</td>\n",
              "      <td>6</td>\n",
              "      <td>1542</td>\n",
              "      <td>2</td>\n",
              "      <td>0</td>\n",
              "      <td>3</td>\n",
              "      <td>7</td>\n",
              "      <td>2</td>\n",
              "      <td>500</td>\n",
              "      <td>1</td>\n",
              "    </tr>\n",
              "    <tr>\n",
              "      <th>1457</th>\n",
              "      <td>9042</td>\n",
              "      <td>7</td>\n",
              "      <td>9</td>\n",
              "      <td>1152</td>\n",
              "      <td>2</td>\n",
              "      <td>0</td>\n",
              "      <td>4</td>\n",
              "      <td>9</td>\n",
              "      <td>2</td>\n",
              "      <td>252</td>\n",
              "      <td>1</td>\n",
              "    </tr>\n",
              "    <tr>\n",
              "      <th>1458</th>\n",
              "      <td>9717</td>\n",
              "      <td>5</td>\n",
              "      <td>6</td>\n",
              "      <td>1078</td>\n",
              "      <td>1</td>\n",
              "      <td>0</td>\n",
              "      <td>2</td>\n",
              "      <td>5</td>\n",
              "      <td>0</td>\n",
              "      <td>240</td>\n",
              "      <td>0</td>\n",
              "    </tr>\n",
              "    <tr>\n",
              "      <th>1459</th>\n",
              "      <td>9937</td>\n",
              "      <td>5</td>\n",
              "      <td>6</td>\n",
              "      <td>1256</td>\n",
              "      <td>1</td>\n",
              "      <td>1</td>\n",
              "      <td>3</td>\n",
              "      <td>6</td>\n",
              "      <td>0</td>\n",
              "      <td>276</td>\n",
              "      <td>0</td>\n",
              "    </tr>\n",
              "  </tbody>\n",
              "</table>\n",
              "<p>1460 rows × 11 columns</p>\n",
              "</div>\n",
              "      <button class=\"colab-df-convert\" onclick=\"convertToInteractive('df-1805726f-7bdf-4600-9883-4e3da4dde797')\"\n",
              "              title=\"Convert this dataframe to an interactive table.\"\n",
              "              style=\"display:none;\">\n",
              "        \n",
              "  <svg xmlns=\"http://www.w3.org/2000/svg\" height=\"24px\"viewBox=\"0 0 24 24\"\n",
              "       width=\"24px\">\n",
              "    <path d=\"M0 0h24v24H0V0z\" fill=\"none\"/>\n",
              "    <path d=\"M18.56 5.44l.94 2.06.94-2.06 2.06-.94-2.06-.94-.94-2.06-.94 2.06-2.06.94zm-11 1L8.5 8.5l.94-2.06 2.06-.94-2.06-.94L8.5 2.5l-.94 2.06-2.06.94zm10 10l.94 2.06.94-2.06 2.06-.94-2.06-.94-.94-2.06-.94 2.06-2.06.94z\"/><path d=\"M17.41 7.96l-1.37-1.37c-.4-.4-.92-.59-1.43-.59-.52 0-1.04.2-1.43.59L10.3 9.45l-7.72 7.72c-.78.78-.78 2.05 0 2.83L4 21.41c.39.39.9.59 1.41.59.51 0 1.02-.2 1.41-.59l7.78-7.78 2.81-2.81c.8-.78.8-2.07 0-2.86zM5.41 20L4 18.59l7.72-7.72 1.47 1.35L5.41 20z\"/>\n",
              "  </svg>\n",
              "      </button>\n",
              "      \n",
              "  <style>\n",
              "    .colab-df-container {\n",
              "      display:flex;\n",
              "      flex-wrap:wrap;\n",
              "      gap: 12px;\n",
              "    }\n",
              "\n",
              "    .colab-df-convert {\n",
              "      background-color: #E8F0FE;\n",
              "      border: none;\n",
              "      border-radius: 50%;\n",
              "      cursor: pointer;\n",
              "      display: none;\n",
              "      fill: #1967D2;\n",
              "      height: 32px;\n",
              "      padding: 0 0 0 0;\n",
              "      width: 32px;\n",
              "    }\n",
              "\n",
              "    .colab-df-convert:hover {\n",
              "      background-color: #E2EBFA;\n",
              "      box-shadow: 0px 1px 2px rgba(60, 64, 67, 0.3), 0px 1px 3px 1px rgba(60, 64, 67, 0.15);\n",
              "      fill: #174EA6;\n",
              "    }\n",
              "\n",
              "    [theme=dark] .colab-df-convert {\n",
              "      background-color: #3B4455;\n",
              "      fill: #D2E3FC;\n",
              "    }\n",
              "\n",
              "    [theme=dark] .colab-df-convert:hover {\n",
              "      background-color: #434B5C;\n",
              "      box-shadow: 0px 1px 3px 1px rgba(0, 0, 0, 0.15);\n",
              "      filter: drop-shadow(0px 1px 2px rgba(0, 0, 0, 0.3));\n",
              "      fill: #FFFFFF;\n",
              "    }\n",
              "  </style>\n",
              "\n",
              "      <script>\n",
              "        const buttonEl =\n",
              "          document.querySelector('#df-1805726f-7bdf-4600-9883-4e3da4dde797 button.colab-df-convert');\n",
              "        buttonEl.style.display =\n",
              "          google.colab.kernel.accessAllowed ? 'block' : 'none';\n",
              "\n",
              "        async function convertToInteractive(key) {\n",
              "          const element = document.querySelector('#df-1805726f-7bdf-4600-9883-4e3da4dde797');\n",
              "          const dataTable =\n",
              "            await google.colab.kernel.invokeFunction('convertToInteractive',\n",
              "                                                     [key], {});\n",
              "          if (!dataTable) return;\n",
              "\n",
              "          const docLinkHtml = 'Like what you see? Visit the ' +\n",
              "            '<a target=\"_blank\" href=https://colab.research.google.com/notebooks/data_table.ipynb>data table notebook</a>'\n",
              "            + ' to learn more about interactive tables.';\n",
              "          element.innerHTML = '';\n",
              "          dataTable['output_type'] = 'display_data';\n",
              "          await google.colab.output.renderOutput(dataTable, element);\n",
              "          const docLink = document.createElement('div');\n",
              "          docLink.innerHTML = docLinkHtml;\n",
              "          element.appendChild(docLink);\n",
              "        }\n",
              "      </script>\n",
              "    </div>\n",
              "  </div>\n",
              "  "
            ],
            "text/plain": [
              "      LotArea  OverallQual  OverallCond  TotalBsmtSF  FullBath  HalfBath  \\\n",
              "0        8450            7            5          856         2         1   \n",
              "1        9600            6            8         1262         2         0   \n",
              "2       11250            7            5          920         2         1   \n",
              "3        9550            7            5          756         1         0   \n",
              "4       14260            8            5         1145         2         1   \n",
              "...       ...          ...          ...          ...       ...       ...   \n",
              "1455     7917            6            5          953         2         1   \n",
              "1456    13175            6            6         1542         2         0   \n",
              "1457     9042            7            9         1152         2         0   \n",
              "1458     9717            5            6         1078         1         0   \n",
              "1459     9937            5            6         1256         1         1   \n",
              "\n",
              "      BedroomAbvGr  TotRmsAbvGrd  Fireplaces  GarageArea  AboveMedianPrice  \n",
              "0                3             8           0         548                 1  \n",
              "1                3             6           1         460                 1  \n",
              "2                3             6           1         608                 1  \n",
              "3                3             7           1         642                 0  \n",
              "4                4             9           1         836                 1  \n",
              "...            ...           ...         ...         ...               ...  \n",
              "1455             3             7           1         460                 1  \n",
              "1456             3             7           2         500                 1  \n",
              "1457             4             9           2         252                 1  \n",
              "1458             2             5           0         240                 0  \n",
              "1459             3             6           0         276                 0  \n",
              "\n",
              "[1460 rows x 11 columns]"
            ]
          },
          "execution_count": 36,
          "metadata": {},
          "output_type": "execute_result"
        }
      ],
      "source": [
        "df"
      ]
    },
    {
      "cell_type": "markdown",
      "metadata": {
        "id": "d6vVVmE_sShR"
      },
      "source": [
        "Convert data into arrays for machine to process:"
      ]
    },
    {
      "cell_type": "code",
      "execution_count": null,
      "metadata": {
        "id": "_lkrZpNA4OtF"
      },
      "outputs": [],
      "source": [
        "dataset = df.values"
      ]
    },
    {
      "cell_type": "code",
      "execution_count": null,
      "metadata": {
        "colab": {
          "base_uri": "https://localhost:8080/"
        },
        "id": "cOI9mvfU4SHH",
        "outputId": "a554fd6f-1b90-434e-e025-b246a24ef4cc"
      },
      "outputs": [
        {
          "data": {
            "text/plain": [
              "array([[ 8450,     7,     5, ...,     0,   548,     1],\n",
              "       [ 9600,     6,     8, ...,     1,   460,     1],\n",
              "       [11250,     7,     5, ...,     1,   608,     1],\n",
              "       ...,\n",
              "       [ 9042,     7,     9, ...,     2,   252,     1],\n",
              "       [ 9717,     5,     6, ...,     0,   240,     0],\n",
              "       [ 9937,     5,     6, ...,     0,   276,     0]])"
            ]
          },
          "execution_count": 38,
          "metadata": {},
          "output_type": "execute_result"
        }
      ],
      "source": [
        "dataset"
      ]
    },
    {
      "cell_type": "markdown",
      "metadata": {
        "id": "b4hRUdyEsmE0"
      },
      "source": [
        "\n",
        "We now split our dataset into input features (X) and the feature we wish to predict (Y).To do that split, we simply assign the first 10 columns of our array to a variable called X and the last column of our array to a variable called Y:"
      ]
    },
    {
      "cell_type": "code",
      "execution_count": null,
      "metadata": {
        "id": "WVAd1rUZ4XKJ"
      },
      "outputs": [],
      "source": [
        "X = dataset[:,0:10]"
      ]
    },
    {
      "cell_type": "markdown",
      "metadata": {
        "id": "hKHC29HXs6Lf"
      },
      "source": [
        "We then assign the last column of our array to Y:"
      ]
    },
    {
      "cell_type": "code",
      "execution_count": null,
      "metadata": {
        "id": "DHnhibFc4ZJC"
      },
      "outputs": [],
      "source": [
        "Y = dataset[:,10]"
      ]
    },
    {
      "cell_type": "code",
      "execution_count": null,
      "metadata": {
        "id": "hCV3-dWA4ZNf"
      },
      "outputs": [],
      "source": [
        "from sklearn import preprocessing"
      ]
    },
    {
      "cell_type": "markdown",
      "metadata": {
        "id": "dDHmXWN-ubNb"
      },
      "source": [
        "We use a function called the min-max scaler, which scales the dataset so that all the input features lie between 0 and 1 inclusive (Normalization):"
      ]
    },
    {
      "cell_type": "code",
      "execution_count": null,
      "metadata": {
        "id": "y5lJ5w0G4ZQL"
      },
      "outputs": [],
      "source": [
        "min_max_scaler = preprocessing.MinMaxScaler()\n",
        "X_scale = min_max_scaler.fit_transform(X)"
      ]
    },
    {
      "cell_type": "code",
      "execution_count": null,
      "metadata": {
        "colab": {
          "base_uri": "https://localhost:8080/"
        },
        "id": "b839E4Tr4ZSz",
        "outputId": "d671aa5d-5705-4d2f-8013-e12e3eeead19"
      },
      "outputs": [
        {
          "data": {
            "text/plain": [
              "array([[0.0334198 , 0.66666667, 0.5       , ..., 0.5       , 0.        ,\n",
              "        0.3864598 ],\n",
              "       [0.03879502, 0.55555556, 0.875     , ..., 0.33333333, 0.33333333,\n",
              "        0.32440056],\n",
              "       [0.04650728, 0.66666667, 0.5       , ..., 0.33333333, 0.33333333,\n",
              "        0.42877292],\n",
              "       ...,\n",
              "       [0.03618687, 0.66666667, 1.        , ..., 0.58333333, 0.66666667,\n",
              "        0.17771509],\n",
              "       [0.03934189, 0.44444444, 0.625     , ..., 0.25      , 0.        ,\n",
              "        0.16925247],\n",
              "       [0.04037019, 0.44444444, 0.625     , ..., 0.33333333, 0.        ,\n",
              "        0.19464034]])"
            ]
          },
          "execution_count": 43,
          "metadata": {},
          "output_type": "execute_result"
        }
      ],
      "source": [
        "X_scale"
      ]
    },
    {
      "cell_type": "markdown",
      "metadata": {
        "id": "ix4hexMEuy-f"
      },
      "source": [
        "Now, we split our dataset into a training set, a validation set and a test set.\n",
        "We will use the code from scikit-learn called ‘train_test_split’, which split our dataset into a training set and a test set. We first import the code we need:"
      ]
    },
    {
      "cell_type": "code",
      "execution_count": null,
      "metadata": {
        "id": "bw3XUbMM4r6h"
      },
      "outputs": [],
      "source": [
        "from sklearn.model_selection import train_test_split"
      ]
    },
    {
      "cell_type": "code",
      "execution_count": null,
      "metadata": {
        "colab": {
          "base_uri": "https://localhost:8080/"
        },
        "id": "8nAmpB_A4r8W",
        "outputId": "6b5e4d1f-670f-4001-ec34-0f910de3625d"
      },
      "outputs": [
        {
          "data": {
            "text/plain": [
              "(1022, 10)"
            ]
          },
          "execution_count": 70,
          "metadata": {},
          "output_type": "execute_result"
        }
      ],
      "source": [
        "X_train, X_val_and_test, Y_train, Y_val_and_test = train_test_split(X_scale, Y, test_size=0.3)\n",
        "X_train.shape"
      ]
    },
    {
      "cell_type": "markdown",
      "metadata": {
        "id": "fLneZXAqvjNu"
      },
      "source": [
        "Since we want a separate validation set and test set, we can use the same function to do the split again on val_and_test:"
      ]
    },
    {
      "cell_type": "code",
      "execution_count": null,
      "metadata": {
        "id": "rWrkhbyK4sDS"
      },
      "outputs": [],
      "source": [
        "X_val, X_test, Y_val, Y_test = train_test_split(X_val_and_test, Y_val_and_test, test_size=0.5)"
      ]
    },
    {
      "cell_type": "markdown",
      "metadata": {
        "id": "sqb1qmIvvxYd"
      },
      "source": [
        "To see the dimensions we simply run:"
      ]
    },
    {
      "cell_type": "code",
      "execution_count": null,
      "metadata": {
        "colab": {
          "base_uri": "https://localhost:8080/"
        },
        "id": "Kd67qkZj5Kh-",
        "outputId": "ce756700-32b5-483a-a1a6-5faa45304084"
      },
      "outputs": [
        {
          "name": "stdout",
          "output_type": "stream",
          "text": [
            "(1022, 10) (219, 10) (219, 10) (1022,) (219,) (219,)\n"
          ]
        }
      ],
      "source": [
        "print(X_train.shape, X_val.shape, X_test.shape, Y_train.shape, Y_val.shape, Y_test.shape)"
      ]
    },
    {
      "cell_type": "markdown",
      "metadata": {
        "id": "klAHuNfkwFIm"
      },
      "source": [
        "#Setting up the Architecture"
      ]
    },
    {
      "cell_type": "markdown",
      "metadata": {
        "id": "7ufj7mD-6Y-q"
      },
      "source": [
        "![DA.jpg](data:image/jpeg;base64,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)"
      ]
    },
    {
      "cell_type": "code",
      "execution_count": null,
      "metadata": {
        "id": "vMRUKFkB5KkO"
      },
      "outputs": [],
      "source": [
        "from keras.models import Sequential\n",
        "from keras.layers import Dense"
      ]
    },
    {
      "cell_type": "markdown",
      "metadata": {
        "id": "sEiQs60OwaU_"
      },
      "source": [
        "We specify that in our Keras sequential model like this:"
      ]
    },
    {
      "cell_type": "code",
      "execution_count": null,
      "metadata": {
        "id": "y77Tfy635KnF"
      },
      "outputs": [],
      "source": [
        "model = Sequential([\n",
        "    Dense(32, activation='relu', input_shape=(10,)),\n",
        "    Dense(32, activation='relu'),\n",
        "    Dense(1, activation='relu'),\n",
        "])"
      ]
    },
    {
      "cell_type": "markdown",
      "metadata": {
        "id": "U_fXPXjbwpOp"
      },
      "source": [
        "Configuring the model with these settings requires us to call the function model.compile, like this:"
      ]
    },
    {
      "cell_type": "code",
      "execution_count": null,
      "metadata": {
        "id": "ioj6Z8Qp5Kqu"
      },
      "outputs": [],
      "source": [
        "model.compile(optimizer='sgd',\n",
        "              loss='binary_crossentropy',\n",
        "              metrics=['accuracy'])"
      ]
    },
    {
      "cell_type": "markdown",
      "metadata": {
        "id": "bXuv_T0XwxNB"
      },
      "source": [
        "Training on the data is pretty straightforward and requires us to write one line of code:"
      ]
    },
    {
      "cell_type": "code",
      "execution_count": null,
      "metadata": {
        "colab": {
          "base_uri": "https://localhost:8080/"
        },
        "id": "LHhgf4fz5Ksj",
        "outputId": "b5b6a526-904b-4aa9-a174-2af6fd8d9b12"
      },
      "outputs": [
        {
          "name": "stdout",
          "output_type": "stream",
          "text": [
            "Epoch 1/100\n",
            "32/32 [==============================] - 1s 7ms/step - loss: 0.6829 - accuracy: 0.5166 - val_loss: 0.6801 - val_accuracy: 0.4977\n",
            "Epoch 2/100\n",
            "32/32 [==============================] - 0s 2ms/step - loss: 0.6798 - accuracy: 0.5127 - val_loss: 0.6769 - val_accuracy: 0.4977\n",
            "Epoch 3/100\n",
            "32/32 [==============================] - 0s 2ms/step - loss: 0.6768 - accuracy: 0.5235 - val_loss: 0.6739 - val_accuracy: 0.5160\n",
            "Epoch 4/100\n",
            "32/32 [==============================] - 0s 2ms/step - loss: 0.6739 - accuracy: 0.5303 - val_loss: 0.6709 - val_accuracy: 0.5342\n",
            "Epoch 5/100\n",
            "32/32 [==============================] - 0s 3ms/step - loss: 0.6710 - accuracy: 0.5342 - val_loss: 0.6678 - val_accuracy: 0.5479\n",
            "Epoch 6/100\n",
            "32/32 [==============================] - 0s 2ms/step - loss: 0.6681 - accuracy: 0.5440 - val_loss: 0.6645 - val_accuracy: 0.5616\n",
            "Epoch 7/100\n",
            "32/32 [==============================] - 0s 2ms/step - loss: 0.6649 - accuracy: 0.5832 - val_loss: 0.6611 - val_accuracy: 0.5982\n",
            "Epoch 8/100\n",
            "32/32 [==============================] - 0s 2ms/step - loss: 0.6615 - accuracy: 0.6027 - val_loss: 0.6573 - val_accuracy: 0.6347\n",
            "Epoch 9/100\n",
            "32/32 [==============================] - 0s 3ms/step - loss: 0.6580 - accuracy: 0.6644 - val_loss: 0.6534 - val_accuracy: 0.6621\n",
            "Epoch 10/100\n",
            "32/32 [==============================] - 0s 3ms/step - loss: 0.6543 - accuracy: 0.6781 - val_loss: 0.6492 - val_accuracy: 0.6758\n",
            "Epoch 11/100\n",
            "32/32 [==============================] - 0s 2ms/step - loss: 0.6504 - accuracy: 0.7153 - val_loss: 0.6449 - val_accuracy: 0.7032\n",
            "Epoch 12/100\n",
            "32/32 [==============================] - 0s 2ms/step - loss: 0.6464 - accuracy: 0.7182 - val_loss: 0.6403 - val_accuracy: 0.7352\n",
            "Epoch 13/100\n",
            "32/32 [==============================] - 0s 3ms/step - loss: 0.6421 - accuracy: 0.7436 - val_loss: 0.6355 - val_accuracy: 0.7397\n",
            "Epoch 14/100\n",
            "32/32 [==============================] - 0s 3ms/step - loss: 0.6376 - accuracy: 0.7564 - val_loss: 0.6304 - val_accuracy: 0.7671\n",
            "Epoch 15/100\n",
            "32/32 [==============================] - 0s 3ms/step - loss: 0.6328 - accuracy: 0.7661 - val_loss: 0.6248 - val_accuracy: 0.7854\n",
            "Epoch 16/100\n",
            "32/32 [==============================] - 0s 2ms/step - loss: 0.6275 - accuracy: 0.7681 - val_loss: 0.6189 - val_accuracy: 0.7945\n",
            "Epoch 17/100\n",
            "32/32 [==============================] - 0s 3ms/step - loss: 0.6223 - accuracy: 0.7798 - val_loss: 0.6130 - val_accuracy: 0.8082\n",
            "Epoch 18/100\n",
            "32/32 [==============================] - 0s 3ms/step - loss: 0.6170 - accuracy: 0.7935 - val_loss: 0.6071 - val_accuracy: 0.8174\n",
            "Epoch 19/100\n",
            "32/32 [==============================] - 0s 2ms/step - loss: 0.6114 - accuracy: 0.7945 - val_loss: 0.6007 - val_accuracy: 0.8219\n",
            "Epoch 20/100\n",
            "32/32 [==============================] - 0s 2ms/step - loss: 0.6055 - accuracy: 0.8072 - val_loss: 0.5942 - val_accuracy: 0.8265\n",
            "Epoch 21/100\n",
            "32/32 [==============================] - 0s 3ms/step - loss: 0.5993 - accuracy: 0.8023 - val_loss: 0.5870 - val_accuracy: 0.8356\n",
            "Epoch 22/100\n",
            "32/32 [==============================] - 0s 2ms/step - loss: 0.5928 - accuracy: 0.8131 - val_loss: 0.5797 - val_accuracy: 0.8493\n",
            "Epoch 23/100\n",
            "32/32 [==============================] - 0s 2ms/step - loss: 0.5858 - accuracy: 0.8258 - val_loss: 0.5723 - val_accuracy: 0.8493\n",
            "Epoch 24/100\n",
            "32/32 [==============================] - 0s 3ms/step - loss: 0.5790 - accuracy: 0.8317 - val_loss: 0.5646 - val_accuracy: 0.8493\n",
            "Epoch 25/100\n",
            "32/32 [==============================] - 0s 3ms/step - loss: 0.5716 - accuracy: 0.8356 - val_loss: 0.5567 - val_accuracy: 0.8493\n",
            "Epoch 26/100\n",
            "32/32 [==============================] - 0s 2ms/step - loss: 0.5642 - accuracy: 0.8405 - val_loss: 0.5489 - val_accuracy: 0.8447\n",
            "Epoch 27/100\n",
            "32/32 [==============================] - 0s 3ms/step - loss: 0.5568 - accuracy: 0.8346 - val_loss: 0.5403 - val_accuracy: 0.8584\n",
            "Epoch 28/100\n",
            "32/32 [==============================] - 0s 3ms/step - loss: 0.5488 - accuracy: 0.8356 - val_loss: 0.5315 - val_accuracy: 0.8630\n",
            "Epoch 29/100\n",
            "32/32 [==============================] - 0s 2ms/step - loss: 0.5410 - accuracy: 0.8454 - val_loss: 0.5227 - val_accuracy: 0.8630\n",
            "Epoch 30/100\n",
            "32/32 [==============================] - 0s 2ms/step - loss: 0.5329 - accuracy: 0.8493 - val_loss: 0.5140 - val_accuracy: 0.8630\n",
            "Epoch 31/100\n",
            "32/32 [==============================] - 0s 3ms/step - loss: 0.5247 - accuracy: 0.8523 - val_loss: 0.5049 - val_accuracy: 0.8767\n",
            "Epoch 32/100\n",
            "32/32 [==============================] - 0s 2ms/step - loss: 0.5166 - accuracy: 0.8542 - val_loss: 0.4964 - val_accuracy: 0.8676\n",
            "Epoch 33/100\n",
            "32/32 [==============================] - 0s 2ms/step - loss: 0.5081 - accuracy: 0.8542 - val_loss: 0.4869 - val_accuracy: 0.8813\n",
            "Epoch 34/100\n",
            "32/32 [==============================] - 0s 3ms/step - loss: 0.4999 - accuracy: 0.8601 - val_loss: 0.4781 - val_accuracy: 0.8813\n",
            "Epoch 35/100\n",
            "32/32 [==============================] - 0s 2ms/step - loss: 0.4916 - accuracy: 0.8620 - val_loss: 0.4691 - val_accuracy: 0.8858\n",
            "Epoch 36/100\n",
            "32/32 [==============================] - 0s 3ms/step - loss: 0.4830 - accuracy: 0.8630 - val_loss: 0.4601 - val_accuracy: 0.8858\n",
            "Epoch 37/100\n",
            "32/32 [==============================] - 0s 3ms/step - loss: 0.4751 - accuracy: 0.8650 - val_loss: 0.4515 - val_accuracy: 0.8858\n",
            "Epoch 38/100\n",
            "32/32 [==============================] - 0s 2ms/step - loss: 0.4667 - accuracy: 0.8640 - val_loss: 0.4422 - val_accuracy: 0.8767\n",
            "Epoch 39/100\n",
            "32/32 [==============================] - 0s 2ms/step - loss: 0.4584 - accuracy: 0.8669 - val_loss: 0.4334 - val_accuracy: 0.8721\n",
            "Epoch 40/100\n",
            "32/32 [==============================] - 0s 2ms/step - loss: 0.4506 - accuracy: 0.8679 - val_loss: 0.4258 - val_accuracy: 0.8813\n",
            "Epoch 41/100\n",
            "32/32 [==============================] - 0s 2ms/step - loss: 0.4428 - accuracy: 0.8708 - val_loss: 0.4168 - val_accuracy: 0.8767\n",
            "Epoch 42/100\n",
            "32/32 [==============================] - 0s 3ms/step - loss: 0.4356 - accuracy: 0.8699 - val_loss: 0.4097 - val_accuracy: 0.8813\n",
            "Epoch 43/100\n",
            "32/32 [==============================] - 0s 2ms/step - loss: 0.4279 - accuracy: 0.8708 - val_loss: 0.4025 - val_accuracy: 0.8813\n",
            "Epoch 44/100\n",
            "32/32 [==============================] - 0s 3ms/step - loss: 0.4210 - accuracy: 0.8718 - val_loss: 0.3952 - val_accuracy: 0.8721\n",
            "Epoch 45/100\n",
            "32/32 [==============================] - 0s 2ms/step - loss: 0.4141 - accuracy: 0.8738 - val_loss: 0.3872 - val_accuracy: 0.8721\n",
            "Epoch 46/100\n",
            "32/32 [==============================] - 0s 2ms/step - loss: 0.4078 - accuracy: 0.8718 - val_loss: 0.3811 - val_accuracy: 0.8767\n",
            "Epoch 47/100\n",
            "32/32 [==============================] - 0s 2ms/step - loss: 0.4014 - accuracy: 0.8777 - val_loss: 0.3742 - val_accuracy: 0.8767\n",
            "Epoch 48/100\n",
            "32/32 [==============================] - 0s 2ms/step - loss: 0.3954 - accuracy: 0.8748 - val_loss: 0.3679 - val_accuracy: 0.8767\n",
            "Epoch 49/100\n",
            "32/32 [==============================] - 0s 3ms/step - loss: 0.3899 - accuracy: 0.8757 - val_loss: 0.3626 - val_accuracy: 0.8767\n",
            "Epoch 50/100\n",
            "32/32 [==============================] - 0s 2ms/step - loss: 0.3844 - accuracy: 0.8777 - val_loss: 0.3573 - val_accuracy: 0.8721\n",
            "Epoch 51/100\n",
            "32/32 [==============================] - 0s 2ms/step - loss: 0.3795 - accuracy: 0.8767 - val_loss: 0.3527 - val_accuracy: 0.8721\n",
            "Epoch 52/100\n",
            "32/32 [==============================] - 0s 3ms/step - loss: 0.3743 - accuracy: 0.8777 - val_loss: 0.3495 - val_accuracy: 0.8676\n",
            "Epoch 53/100\n",
            "32/32 [==============================] - 0s 2ms/step - loss: 0.3702 - accuracy: 0.8738 - val_loss: 0.3429 - val_accuracy: 0.8721\n",
            "Epoch 54/100\n",
            "32/32 [==============================] - 0s 3ms/step - loss: 0.3658 - accuracy: 0.8787 - val_loss: 0.3387 - val_accuracy: 0.8721\n",
            "Epoch 55/100\n",
            "32/32 [==============================] - 0s 3ms/step - loss: 0.3619 - accuracy: 0.8767 - val_loss: 0.3342 - val_accuracy: 0.8676\n",
            "Epoch 56/100\n",
            "32/32 [==============================] - 0s 3ms/step - loss: 0.3581 - accuracy: 0.8787 - val_loss: 0.3303 - val_accuracy: 0.8721\n",
            "Epoch 57/100\n",
            "32/32 [==============================] - 0s 2ms/step - loss: 0.3546 - accuracy: 0.8826 - val_loss: 0.3267 - val_accuracy: 0.8721\n",
            "Epoch 58/100\n",
            "32/32 [==============================] - 0s 2ms/step - loss: 0.3511 - accuracy: 0.8777 - val_loss: 0.3230 - val_accuracy: 0.8767\n",
            "Epoch 59/100\n",
            "32/32 [==============================] - 0s 2ms/step - loss: 0.3478 - accuracy: 0.8806 - val_loss: 0.3208 - val_accuracy: 0.8721\n",
            "Epoch 60/100\n",
            "32/32 [==============================] - 0s 2ms/step - loss: 0.3449 - accuracy: 0.8777 - val_loss: 0.3178 - val_accuracy: 0.8721\n",
            "Epoch 61/100\n",
            "32/32 [==============================] - 0s 2ms/step - loss: 0.3421 - accuracy: 0.8757 - val_loss: 0.3148 - val_accuracy: 0.8721\n",
            "Epoch 62/100\n",
            "32/32 [==============================] - 0s 3ms/step - loss: 0.3396 - accuracy: 0.8777 - val_loss: 0.3114 - val_accuracy: 0.8721\n",
            "Epoch 63/100\n",
            "32/32 [==============================] - 0s 2ms/step - loss: 0.3367 - accuracy: 0.8738 - val_loss: 0.3087 - val_accuracy: 0.8813\n",
            "Epoch 64/100\n",
            "32/32 [==============================] - 0s 3ms/step - loss: 0.3347 - accuracy: 0.8728 - val_loss: 0.3075 - val_accuracy: 0.8721\n",
            "Epoch 65/100\n",
            "32/32 [==============================] - 0s 2ms/step - loss: 0.3322 - accuracy: 0.8767 - val_loss: 0.3035 - val_accuracy: 0.8813\n",
            "Epoch 66/100\n",
            "32/32 [==============================] - 0s 2ms/step - loss: 0.3303 - accuracy: 0.8757 - val_loss: 0.3021 - val_accuracy: 0.8767\n",
            "Epoch 67/100\n",
            "32/32 [==============================] - 0s 2ms/step - loss: 0.3279 - accuracy: 0.8738 - val_loss: 0.2986 - val_accuracy: 0.8858\n",
            "Epoch 68/100\n",
            "32/32 [==============================] - 0s 3ms/step - loss: 0.3262 - accuracy: 0.8708 - val_loss: 0.2978 - val_accuracy: 0.8813\n",
            "Epoch 69/100\n",
            "32/32 [==============================] - 0s 3ms/step - loss: 0.3244 - accuracy: 0.8748 - val_loss: 0.2954 - val_accuracy: 0.8813\n",
            "Epoch 70/100\n",
            "32/32 [==============================] - 0s 3ms/step - loss: 0.3232 - accuracy: 0.8748 - val_loss: 0.2950 - val_accuracy: 0.8767\n",
            "Epoch 71/100\n",
            "32/32 [==============================] - 0s 2ms/step - loss: 0.3217 - accuracy: 0.8728 - val_loss: 0.2922 - val_accuracy: 0.8813\n",
            "Epoch 72/100\n",
            "32/32 [==============================] - 0s 2ms/step - loss: 0.3201 - accuracy: 0.8757 - val_loss: 0.2907 - val_accuracy: 0.8813\n",
            "Epoch 73/100\n",
            "32/32 [==============================] - 0s 2ms/step - loss: 0.3183 - accuracy: 0.8757 - val_loss: 0.2895 - val_accuracy: 0.8813\n",
            "Epoch 74/100\n",
            "32/32 [==============================] - 0s 3ms/step - loss: 0.3166 - accuracy: 0.8738 - val_loss: 0.2872 - val_accuracy: 0.8813\n",
            "Epoch 75/100\n",
            "32/32 [==============================] - 0s 3ms/step - loss: 0.3155 - accuracy: 0.8777 - val_loss: 0.2852 - val_accuracy: 0.8813\n",
            "Epoch 76/100\n",
            "32/32 [==============================] - 0s 2ms/step - loss: 0.3147 - accuracy: 0.8777 - val_loss: 0.2853 - val_accuracy: 0.8813\n",
            "Epoch 77/100\n",
            "32/32 [==============================] - 0s 2ms/step - loss: 0.3131 - accuracy: 0.8767 - val_loss: 0.2830 - val_accuracy: 0.8813\n",
            "Epoch 78/100\n",
            "32/32 [==============================] - 0s 3ms/step - loss: 0.3124 - accuracy: 0.8728 - val_loss: 0.2835 - val_accuracy: 0.8813\n",
            "Epoch 79/100\n",
            "32/32 [==============================] - 0s 3ms/step - loss: 0.3107 - accuracy: 0.8757 - val_loss: 0.2809 - val_accuracy: 0.8813\n",
            "Epoch 80/100\n",
            "32/32 [==============================] - 0s 3ms/step - loss: 0.3096 - accuracy: 0.8767 - val_loss: 0.2789 - val_accuracy: 0.8813\n",
            "Epoch 81/100\n",
            "32/32 [==============================] - 0s 2ms/step - loss: 0.3084 - accuracy: 0.8777 - val_loss: 0.2805 - val_accuracy: 0.8813\n",
            "Epoch 82/100\n",
            "32/32 [==============================] - 0s 2ms/step - loss: 0.3074 - accuracy: 0.8757 - val_loss: 0.2767 - val_accuracy: 0.8813\n",
            "Epoch 83/100\n",
            "32/32 [==============================] - 0s 3ms/step - loss: 0.3073 - accuracy: 0.8728 - val_loss: 0.2766 - val_accuracy: 0.8813\n",
            "Epoch 84/100\n",
            "32/32 [==============================] - 0s 2ms/step - loss: 0.3063 - accuracy: 0.8787 - val_loss: 0.2750 - val_accuracy: 0.8813\n",
            "Epoch 85/100\n",
            "32/32 [==============================] - 0s 2ms/step - loss: 0.3054 - accuracy: 0.8796 - val_loss: 0.2757 - val_accuracy: 0.8813\n",
            "Epoch 86/100\n",
            "32/32 [==============================] - 0s 2ms/step - loss: 0.3042 - accuracy: 0.8748 - val_loss: 0.2752 - val_accuracy: 0.8813\n",
            "Epoch 87/100\n",
            "32/32 [==============================] - 0s 2ms/step - loss: 0.3037 - accuracy: 0.8777 - val_loss: 0.2719 - val_accuracy: 0.8813\n",
            "Epoch 88/100\n",
            "32/32 [==============================] - 0s 3ms/step - loss: 0.3031 - accuracy: 0.8787 - val_loss: 0.2732 - val_accuracy: 0.8813\n",
            "Epoch 89/100\n",
            "32/32 [==============================] - 0s 2ms/step - loss: 0.3020 - accuracy: 0.8767 - val_loss: 0.2720 - val_accuracy: 0.8813\n",
            "Epoch 90/100\n",
            "32/32 [==============================] - 0s 2ms/step - loss: 0.3014 - accuracy: 0.8757 - val_loss: 0.2720 - val_accuracy: 0.8813\n",
            "Epoch 91/100\n",
            "32/32 [==============================] - 0s 2ms/step - loss: 0.3009 - accuracy: 0.8787 - val_loss: 0.2719 - val_accuracy: 0.8858\n",
            "Epoch 92/100\n",
            "32/32 [==============================] - 0s 3ms/step - loss: 0.2999 - accuracy: 0.8757 - val_loss: 0.2702 - val_accuracy: 0.8813\n",
            "Epoch 93/100\n",
            "32/32 [==============================] - 0s 2ms/step - loss: 0.2990 - accuracy: 0.8777 - val_loss: 0.2720 - val_accuracy: 0.8858\n",
            "Epoch 94/100\n",
            "32/32 [==============================] - 0s 3ms/step - loss: 0.2986 - accuracy: 0.8767 - val_loss: 0.2708 - val_accuracy: 0.8858\n",
            "Epoch 95/100\n",
            "32/32 [==============================] - 0s 3ms/step - loss: 0.2976 - accuracy: 0.8826 - val_loss: 0.2701 - val_accuracy: 0.8858\n",
            "Epoch 96/100\n",
            "32/32 [==============================] - 0s 2ms/step - loss: 0.2973 - accuracy: 0.8767 - val_loss: 0.2658 - val_accuracy: 0.8813\n",
            "Epoch 97/100\n",
            "32/32 [==============================] - 0s 2ms/step - loss: 0.2970 - accuracy: 0.8806 - val_loss: 0.2675 - val_accuracy: 0.8858\n",
            "Epoch 98/100\n",
            "32/32 [==============================] - 0s 2ms/step - loss: 0.2969 - accuracy: 0.8787 - val_loss: 0.2655 - val_accuracy: 0.8858\n",
            "Epoch 99/100\n",
            "32/32 [==============================] - 0s 3ms/step - loss: 0.2952 - accuracy: 0.8816 - val_loss: 0.2620 - val_accuracy: 0.8904\n",
            "Epoch 100/100\n",
            "32/32 [==============================] - 0s 3ms/step - loss: 0.2951 - accuracy: 0.8796 - val_loss: 0.2624 - val_accuracy: 0.8813\n"
          ]
        }
      ],
      "source": [
        "hist = model.fit(X_train, Y_train,\n",
        "          batch_size=32, epochs=100,\n",
        "          validation_data=(X_val, Y_val))"
      ]
    },
    {
      "cell_type": "markdown",
      "metadata": {
        "id": "I6F1hht_xGw8"
      },
      "source": [
        "To find the accuracy on test set, we run this:"
      ]
    },
    {
      "cell_type": "code",
      "execution_count": null,
      "metadata": {
        "colab": {
          "base_uri": "https://localhost:8080/"
        },
        "id": "NqBK01Wy5KvH",
        "outputId": "1ca65f41-a640-41cd-bd6e-4e6f711789db"
      },
      "outputs": [
        {
          "name": "stdout",
          "output_type": "stream",
          "text": [
            "7/7 [==============================] - 0s 2ms/step - loss: 0.2592 - accuracy: 0.8995\n"
          ]
        },
        {
          "data": {
            "text/plain": [
              "0.8995434045791626"
            ]
          },
          "execution_count": 19,
          "metadata": {},
          "output_type": "execute_result"
        }
      ],
      "source": [
        "model.evaluate(X_test, Y_test)[1]"
      ]
    },
    {
      "cell_type": "code",
      "execution_count": null,
      "metadata": {
        "id": "Ouyl09BU5wvM"
      },
      "outputs": [],
      "source": [
        "import matplotlib.pyplot as plt"
      ]
    },
    {
      "cell_type": "markdown",
      "metadata": {
        "id": "1p9egnctxXzE"
      },
      "source": [
        "Then, we want to visualize the training loss and the validation loss. To do so, we run this snippet of code:"
      ]
    },
    {
      "cell_type": "code",
      "execution_count": null,
      "metadata": {
        "colab": {
          "base_uri": "https://localhost:8080/",
          "height": 295
        },
        "id": "z4DNjEXd5ww4",
        "outputId": "2a3799a4-fe23-4dd2-e42d-5a912de9150a"
      },
      "outputs": [
        {
          "data": {
            "image/png": "[encoded data removed]",
            "text/plain": [
              "<Figure size 432x288 with 1 Axes>"
            ]
          },
          "metadata": {},
          "output_type": "display_data"
        }
      ],
      "source": [
        "plt.plot(hist.history['loss'])\n",
        "plt.plot(hist.history['val_loss'])\n",
        "plt.title('Model loss')\n",
        "plt.ylabel('Loss')\n",
        "plt.xlabel('Epoch')\n",
        "plt.legend(['Train', 'Val'], loc='upper right')\n",
        "plt.show()"
      ]
    },
    {
      "cell_type": "markdown",
      "metadata": {
        "id": "jMSUHkaixi5q"
      },
      "source": [
        "We do the same to plot our training accuracy and validation accuracy with the code below:"
      ]
    },
    {
      "cell_type": "code",
      "execution_count": null,
      "metadata": {
        "colab": {
          "base_uri": "https://localhost:8080/",
          "height": 295
        },
        "id": "T1RFsW2J5w0N",
        "outputId": "e7d65439-7d3b-4c81-bebc-038a985bc82a"
      },
      "outputs": [
        {
          "data": {
            "image/png": "[encoded data removed]",
            "text/plain": [
              "<Figure size 432x288 with 1 Axes>"
            ]
          },
          "metadata": {},
          "output_type": "display_data"
        }
      ],
      "source": [
        "plt.plot(hist.history['accuracy'])\n",
        "plt.plot(hist.history['val_accuracy'])\n",
        "plt.title('Model accuracy')\n",
        "plt.ylabel('Accuracy')\n",
        "plt.xlabel('Epoch')\n",
        "plt.legend(['Train', 'Val'], loc='lower right')\n",
        "plt.show()\n"
      ]
    },
    {
      "cell_type": "markdown",
      "metadata": {
        "id": "vrTchTYzxqxK"
      },
      "source": [
        "# Adding Regularization to our Neural Network"
      ]
    },
    {
      "cell_type": "markdown",
      "metadata": {
        "id": "naV2_AYGx83E"
      },
      "source": [
        "We formulate with a neural network that will badly overfit on our training set."
      ]
    },
    {
      "cell_type": "code",
      "execution_count": null,
      "metadata": {
        "colab": {
          "background_save": true,
          "base_uri": "https://localhost:8080/"
        },
        "id": "SnLQUfJQ5w2Z",
        "outputId": "aed87aff-67b3-4ee7-c796-e92fb8ac29f1"
      },
      "outputs": [
        {
          "name": "stdout",
          "output_type": "stream",
          "text": [
            "Epoch 1/100\n",
            "32/32 [==============================] - 2s 49ms/step - loss: 0.4795 - accuracy: 0.7632 - val_loss: 0.4560 - val_accuracy: 0.7763\n",
            "Epoch 2/100\n",
            "32/32 [==============================] - 1s 34ms/step - loss: 0.3393 - accuracy: 0.8434 - val_loss: 0.3377 - val_accuracy: 0.8630\n",
            "Epoch 3/100\n",
            "32/32 [==============================] - 1s 33ms/step - loss: 0.3211 - accuracy: 0.8738 - val_loss: 0.4650 - val_accuracy: 0.8402\n",
            "Epoch 4/100\n",
            "32/32 [==============================] - 1s 33ms/step - loss: 0.3165 - accuracy: 0.8708 - val_loss: 0.3705 - val_accuracy: 0.8630\n",
            "Epoch 5/100\n",
            "32/32 [==============================] - 1s 34ms/step - loss: 0.2587 - accuracy: 0.8865 - val_loss: 0.4073 - val_accuracy: 0.8676\n",
            "Epoch 6/100\n",
            "32/32 [==============================] - 1s 33ms/step - loss: 0.2506 - accuracy: 0.8992 - val_loss: 0.3884 - val_accuracy: 0.8493\n",
            "Epoch 7/100\n",
            "32/32 [==============================] - 1s 34ms/step - loss: 0.2335 - accuracy: 0.8953 - val_loss: 0.3255 - val_accuracy: 0.9041\n",
            "Epoch 8/100\n",
            "32/32 [==============================] - 1s 34ms/step - loss: 0.2421 - accuracy: 0.9012 - val_loss: 0.4457 - val_accuracy: 0.8721\n",
            "Epoch 9/100\n",
            "32/32 [==============================] - 1s 33ms/step - loss: 0.2665 - accuracy: 0.9022 - val_loss: 0.3274 - val_accuracy: 0.9041\n",
            "Epoch 10/100\n",
            "32/32 [==============================] - 1s 33ms/step - loss: 0.2855 - accuracy: 0.8777 - val_loss: 0.3020 - val_accuracy: 0.9041\n",
            "Epoch 11/100\n",
            "32/32 [==============================] - 1s 33ms/step - loss: 0.2212 - accuracy: 0.9051 - val_loss: 0.3143 - val_accuracy: 0.8995\n",
            "Epoch 12/100\n",
            "32/32 [==============================] - 1s 33ms/step - loss: 0.2020 - accuracy: 0.9188 - val_loss: 0.4756 - val_accuracy: 0.8676\n",
            "Epoch 13/100\n",
            "32/32 [==============================] - 1s 33ms/step - loss: 0.2401 - accuracy: 0.9041 - val_loss: 0.3330 - val_accuracy: 0.9041\n",
            "Epoch 14/100\n",
            "32/32 [==============================] - 1s 32ms/step - loss: 0.2108 - accuracy: 0.9129 - val_loss: 0.3223 - val_accuracy: 0.9132\n",
            "Epoch 15/100\n",
            "32/32 [==============================] - 1s 33ms/step - loss: 0.2161 - accuracy: 0.9129 - val_loss: 0.3278 - val_accuracy: 0.9087\n",
            "Epoch 16/100\n",
            "32/32 [==============================] - 1s 34ms/step - loss: 0.1908 - accuracy: 0.9129 - val_loss: 0.3613 - val_accuracy: 0.9178\n",
            "Epoch 17/100\n",
            "32/32 [==============================] - 1s 35ms/step - loss: 0.2096 - accuracy: 0.9168 - val_loss: 0.4126 - val_accuracy: 0.8858\n",
            "Epoch 18/100\n",
            "32/32 [==============================] - 1s 34ms/step - loss: 0.2198 - accuracy: 0.9168 - val_loss: 0.4116 - val_accuracy: 0.8858\n",
            "Epoch 19/100\n",
            "32/32 [==============================] - 1s 35ms/step - loss: 0.2437 - accuracy: 0.8943 - val_loss: 0.3273 - val_accuracy: 0.9087\n",
            "Epoch 20/100\n",
            "32/32 [==============================] - 1s 33ms/step - loss: 0.2136 - accuracy: 0.9149 - val_loss: 0.4264 - val_accuracy: 0.8950\n",
            "Epoch 21/100\n",
            "32/32 [==============================] - 1s 33ms/step - loss: 0.1847 - accuracy: 0.9207 - val_loss: 0.3399 - val_accuracy: 0.9132\n",
            "Epoch 22/100\n",
            "32/32 [==============================] - 1s 33ms/step - loss: 0.1832 - accuracy: 0.9256 - val_loss: 0.3436 - val_accuracy: 0.9224\n",
            "Epoch 23/100\n",
            "32/32 [==============================] - 1s 32ms/step - loss: 0.1890 - accuracy: 0.9178 - val_loss: 0.4397 - val_accuracy: 0.8904\n",
            "Epoch 24/100\n",
            "32/32 [==============================] - 1s 32ms/step - loss: 0.2093 - accuracy: 0.9119 - val_loss: 0.3988 - val_accuracy: 0.9224\n",
            "Epoch 25/100\n",
            "32/32 [==============================] - 1s 33ms/step - loss: 0.1828 - accuracy: 0.9276 - val_loss: 0.3829 - val_accuracy: 0.9041\n",
            "Epoch 26/100\n",
            "32/32 [==============================] - 1s 32ms/step - loss: 0.1974 - accuracy: 0.9217 - val_loss: 0.3344 - val_accuracy: 0.9269\n",
            "Epoch 27/100\n",
            "32/32 [==============================] - 1s 32ms/step - loss: 0.1907 - accuracy: 0.9217 - val_loss: 0.3422 - val_accuracy: 0.9041\n",
            "Epoch 28/100\n",
            "32/32 [==============================] - 1s 33ms/step - loss: 0.1954 - accuracy: 0.9139 - val_loss: 0.3486 - val_accuracy: 0.9269\n",
            "Epoch 29/100\n",
            "32/32 [==============================] - 1s 32ms/step - loss: 0.1985 - accuracy: 0.9139 - val_loss: 0.3276 - val_accuracy: 0.9178\n",
            "Epoch 30/100\n",
            "32/32 [==============================] - 1s 33ms/step - loss: 0.1732 - accuracy: 0.9207 - val_loss: 0.3865 - val_accuracy: 0.9315\n",
            "Epoch 31/100\n",
            "32/32 [==============================] - 1s 33ms/step - loss: 0.1695 - accuracy: 0.9295 - val_loss: 0.3809 - val_accuracy: 0.9132\n",
            "Epoch 32/100\n",
            "32/32 [==============================] - 1s 32ms/step - loss: 0.1677 - accuracy: 0.9374 - val_loss: 0.3574 - val_accuracy: 0.9224\n",
            "Epoch 33/100\n",
            "32/32 [==============================] - 1s 32ms/step - loss: 0.1683 - accuracy: 0.9247 - val_loss: 0.3675 - val_accuracy: 0.9178\n",
            "Epoch 34/100\n",
            "32/32 [==============================] - 1s 32ms/step - loss: 0.1722 - accuracy: 0.9256 - val_loss: 0.3361 - val_accuracy: 0.9224\n",
            "Epoch 35/100\n",
            "32/32 [==============================] - 1s 33ms/step - loss: 0.1640 - accuracy: 0.9247 - val_loss: 0.4238 - val_accuracy: 0.9178\n",
            "Epoch 36/100\n",
            "32/32 [==============================] - 1s 34ms/step - loss: 0.1908 - accuracy: 0.9227 - val_loss: 0.3741 - val_accuracy: 0.9269\n",
            "Epoch 37/100\n",
            "32/32 [==============================] - 1s 32ms/step - loss: 0.1807 - accuracy: 0.9266 - val_loss: 0.4011 - val_accuracy: 0.9041\n",
            "Epoch 38/100\n",
            "32/32 [==============================] - 1s 33ms/step - loss: 0.1846 - accuracy: 0.9266 - val_loss: 0.3416 - val_accuracy: 0.9315\n",
            "Epoch 39/100\n",
            "32/32 [==============================] - 1s 32ms/step - loss: 0.1613 - accuracy: 0.9325 - val_loss: 0.4513 - val_accuracy: 0.9269\n",
            "Epoch 40/100\n",
            "32/32 [==============================] - 1s 32ms/step - loss: 0.1646 - accuracy: 0.9276 - val_loss: 0.4250 - val_accuracy: 0.9452\n",
            "Epoch 41/100\n",
            "32/32 [==============================] - 1s 32ms/step - loss: 0.1582 - accuracy: 0.9325 - val_loss: 0.4845 - val_accuracy: 0.9178\n",
            "Epoch 42/100\n",
            "32/32 [==============================] - 1s 32ms/step - loss: 0.1669 - accuracy: 0.9286 - val_loss: 0.3905 - val_accuracy: 0.9269\n",
            "Epoch 43/100\n",
            "32/32 [==============================] - 1s 33ms/step - loss: 0.1683 - accuracy: 0.9276 - val_loss: 0.4170 - val_accuracy: 0.9269\n",
            "Epoch 44/100\n",
            "32/32 [==============================] - 1s 31ms/step - loss: 0.1613 - accuracy: 0.9276 - val_loss: 0.4247 - val_accuracy: 0.9361\n",
            "Epoch 45/100\n",
            "32/32 [==============================] - 1s 32ms/step - loss: 0.1436 - accuracy: 0.9403 - val_loss: 0.3935 - val_accuracy: 0.9178\n",
            "Epoch 46/100\n",
            "32/32 [==============================] - 1s 33ms/step - loss: 0.1584 - accuracy: 0.9315 - val_loss: 0.4246 - val_accuracy: 0.9224\n",
            "Epoch 47/100\n",
            "32/32 [==============================] - 1s 32ms/step - loss: 0.1522 - accuracy: 0.9354 - val_loss: 0.4495 - val_accuracy: 0.9087\n",
            "Epoch 48/100\n",
            "32/32 [==============================] - 1s 32ms/step - loss: 0.1505 - accuracy: 0.9266 - val_loss: 0.4465 - val_accuracy: 0.9406\n",
            "Epoch 49/100\n",
            "32/32 [==============================] - 1s 32ms/step - loss: 0.1509 - accuracy: 0.9393 - val_loss: 0.4217 - val_accuracy: 0.9315\n",
            "Epoch 50/100\n",
            "32/32 [==============================] - 1s 32ms/step - loss: 0.1639 - accuracy: 0.9247 - val_loss: 0.4963 - val_accuracy: 0.9224\n",
            "Epoch 51/100\n",
            "32/32 [==============================] - 1s 33ms/step - loss: 0.2095 - accuracy: 0.9061 - val_loss: 0.3804 - val_accuracy: 0.9269\n",
            "Epoch 52/100\n",
            "32/32 [==============================] - 1s 32ms/step - loss: 0.1440 - accuracy: 0.9462 - val_loss: 0.4910 - val_accuracy: 0.9406\n",
            "Epoch 53/100\n",
            "32/32 [==============================] - 1s 33ms/step - loss: 0.1483 - accuracy: 0.9423 - val_loss: 0.4979 - val_accuracy: 0.9315\n",
            "Epoch 54/100\n",
            "32/32 [==============================] - 1s 32ms/step - loss: 0.1410 - accuracy: 0.9413 - val_loss: 0.4439 - val_accuracy: 0.9178\n",
            "Epoch 55/100\n",
            "32/32 [==============================] - 1s 33ms/step - loss: 0.1274 - accuracy: 0.9452 - val_loss: 0.5038 - val_accuracy: 0.9087\n",
            "Epoch 56/100\n",
            "32/32 [==============================] - 1s 33ms/step - loss: 0.1357 - accuracy: 0.9481 - val_loss: 0.6848 - val_accuracy: 0.8995\n",
            "Epoch 57/100\n",
            "32/32 [==============================] - 1s 32ms/step - loss: 0.2240 - accuracy: 0.9061 - val_loss: 0.4160 - val_accuracy: 0.9132\n",
            "Epoch 58/100\n",
            "32/32 [==============================] - 1s 32ms/step - loss: 0.1511 - accuracy: 0.9364 - val_loss: 0.4342 - val_accuracy: 0.9087\n",
            "Epoch 59/100\n",
            "32/32 [==============================] - 1s 32ms/step - loss: 0.1377 - accuracy: 0.9423 - val_loss: 0.5163 - val_accuracy: 0.9132\n",
            "Epoch 60/100\n",
            "32/32 [==============================] - 1s 33ms/step - loss: 0.1426 - accuracy: 0.9423 - val_loss: 0.4758 - val_accuracy: 0.9452\n",
            "Epoch 61/100\n",
            "32/32 [==============================] - 1s 32ms/step - loss: 0.1448 - accuracy: 0.9442 - val_loss: 0.4152 - val_accuracy: 0.9224\n",
            "Epoch 62/100\n",
            "32/32 [==============================] - 1s 32ms/step - loss: 0.1234 - accuracy: 0.9481 - val_loss: 0.4441 - val_accuracy: 0.9361\n",
            "Epoch 63/100\n",
            "32/32 [==============================] - 1s 32ms/step - loss: 0.1313 - accuracy: 0.9452 - val_loss: 0.4900 - val_accuracy: 0.9224\n",
            "Epoch 64/100\n",
            "32/32 [==============================] - 1s 32ms/step - loss: 0.1413 - accuracy: 0.9481 - val_loss: 0.4723 - val_accuracy: 0.9361\n",
            "Epoch 65/100\n",
            "32/32 [==============================] - 1s 32ms/step - loss: 0.1508 - accuracy: 0.9315 - val_loss: 0.4504 - val_accuracy: 0.9315\n",
            "Epoch 66/100\n",
            "32/32 [==============================] - 1s 33ms/step - loss: 0.1214 - accuracy: 0.9452 - val_loss: 0.4929 - val_accuracy: 0.9224\n",
            "Epoch 67/100\n",
            "32/32 [==============================] - 1s 32ms/step - loss: 0.1152 - accuracy: 0.9511 - val_loss: 0.5991 - val_accuracy: 0.9087\n",
            "Epoch 68/100\n",
            "32/32 [==============================] - 1s 32ms/step - loss: 0.1590 - accuracy: 0.9384 - val_loss: 0.5024 - val_accuracy: 0.9269\n",
            "Epoch 69/100\n",
            "32/32 [==============================] - 1s 33ms/step - loss: 0.1624 - accuracy: 0.9295 - val_loss: 0.4823 - val_accuracy: 0.9361\n",
            "Epoch 70/100\n",
            "32/32 [==============================] - 1s 33ms/step - loss: 0.1296 - accuracy: 0.9472 - val_loss: 0.5592 - val_accuracy: 0.9361\n",
            "Epoch 71/100\n",
            "32/32 [==============================] - 1s 32ms/step - loss: 0.1182 - accuracy: 0.9521 - val_loss: 0.5760 - val_accuracy: 0.8995\n",
            "Epoch 72/100\n",
            "32/32 [==============================] - 1s 33ms/step - loss: 0.1179 - accuracy: 0.9452 - val_loss: 0.5089 - val_accuracy: 0.9269\n",
            "Epoch 73/100\n",
            "32/32 [==============================] - 1s 33ms/step - loss: 0.1411 - accuracy: 0.9413 - val_loss: 0.5648 - val_accuracy: 0.9315\n",
            "Epoch 74/100\n",
            "32/32 [==============================] - 1s 33ms/step - loss: 0.1364 - accuracy: 0.9481 - val_loss: 0.5435 - val_accuracy: 0.9269\n",
            "Epoch 75/100\n",
            "32/32 [==============================] - 1s 32ms/step - loss: 0.1131 - accuracy: 0.9501 - val_loss: 0.6613 - val_accuracy: 0.9041\n",
            "Epoch 76/100\n",
            "32/32 [==============================] - 1s 33ms/step - loss: 0.1334 - accuracy: 0.9432 - val_loss: 0.5904 - val_accuracy: 0.9087\n",
            "Epoch 77/100\n",
            "32/32 [==============================] - 1s 33ms/step - loss: 0.1263 - accuracy: 0.9472 - val_loss: 0.5791 - val_accuracy: 0.9224\n",
            "Epoch 78/100\n",
            "32/32 [==============================] - 1s 33ms/step - loss: 0.1179 - accuracy: 0.9540 - val_loss: 0.6354 - val_accuracy: 0.9269\n",
            "Epoch 79/100\n",
            "32/32 [==============================] - 1s 32ms/step - loss: 0.1165 - accuracy: 0.9501 - val_loss: 0.5887 - val_accuracy: 0.9087\n",
            "Epoch 80/100\n",
            "32/32 [==============================] - 1s 33ms/step - loss: 0.1055 - accuracy: 0.9540 - val_loss: 0.6419 - val_accuracy: 0.9361\n",
            "Epoch 81/100\n",
            "32/32 [==============================] - 1s 33ms/step - loss: 0.1032 - accuracy: 0.9579 - val_loss: 0.6765 - val_accuracy: 0.9224\n",
            "Epoch 82/100\n",
            "32/32 [==============================] - 1s 33ms/step - loss: 0.1081 - accuracy: 0.9550 - val_loss: 0.7141 - val_accuracy: 0.9452\n",
            "Epoch 83/100\n",
            "32/32 [==============================] - 1s 33ms/step - loss: 0.1446 - accuracy: 0.9413 - val_loss: 0.6593 - val_accuracy: 0.9315\n",
            "Epoch 84/100\n",
            "32/32 [==============================] - 1s 33ms/step - loss: 0.1108 - accuracy: 0.9521 - val_loss: 0.5726 - val_accuracy: 0.9224\n",
            "Epoch 85/100\n",
            "32/32 [==============================] - 1s 33ms/step - loss: 0.0957 - accuracy: 0.9569 - val_loss: 0.7231 - val_accuracy: 0.9315\n",
            "Epoch 86/100\n",
            "32/32 [==============================] - 1s 34ms/step - loss: 0.1878 - accuracy: 0.9364 - val_loss: 0.5100 - val_accuracy: 0.9087\n",
            "Epoch 87/100\n",
            "32/32 [==============================] - 1s 33ms/step - loss: 0.1705 - accuracy: 0.9266 - val_loss: 0.3848 - val_accuracy: 0.9406\n",
            "Epoch 88/100\n",
            "32/32 [==============================] - 1s 34ms/step - loss: 0.1579 - accuracy: 0.9374 - val_loss: 0.3854 - val_accuracy: 0.9178\n",
            "Epoch 89/100\n",
            "32/32 [==============================] - 1s 33ms/step - loss: 0.1122 - accuracy: 0.9521 - val_loss: 0.4826 - val_accuracy: 0.9406\n",
            "Epoch 90/100\n",
            "32/32 [==============================] - 1s 33ms/step - loss: 0.1137 - accuracy: 0.9530 - val_loss: 0.5021 - val_accuracy: 0.9315\n",
            "Epoch 91/100\n",
            "32/32 [==============================] - 1s 33ms/step - loss: 0.1136 - accuracy: 0.9511 - val_loss: 0.5570 - val_accuracy: 0.9361\n",
            "Epoch 92/100\n",
            "32/32 [==============================] - 1s 33ms/step - loss: 0.1412 - accuracy: 0.9472 - val_loss: 0.4879 - val_accuracy: 0.8950\n",
            "Epoch 93/100\n",
            "32/32 [==============================] - 2s 50ms/step - loss: 0.1567 - accuracy: 0.9413 - val_loss: 0.4534 - val_accuracy: 0.9452\n",
            "Epoch 94/100\n",
            "32/32 [==============================] - 2s 62ms/step - loss: 0.1066 - accuracy: 0.9609 - val_loss: 0.4682 - val_accuracy: 0.9269\n",
            "Epoch 95/100\n",
            "32/32 [==============================] - 1s 45ms/step - loss: 0.1199 - accuracy: 0.9511 - val_loss: 0.4855 - val_accuracy: 0.9315\n",
            "Epoch 96/100\n",
            "32/32 [==============================] - 1s 33ms/step - loss: 0.1081 - accuracy: 0.9501 - val_loss: 0.5551 - val_accuracy: 0.9361\n",
            "Epoch 97/100\n",
            "32/32 [==============================] - 1s 34ms/step - loss: 0.0978 - accuracy: 0.9609 - val_loss: 0.5351 - val_accuracy: 0.9361\n",
            "Epoch 98/100\n",
            "32/32 [==============================] - 1s 32ms/step - loss: 0.1226 - accuracy: 0.9599 - val_loss: 0.5388 - val_accuracy: 0.9041\n",
            "Epoch 99/100\n",
            "32/32 [==============================] - 1s 32ms/step - loss: 0.1151 - accuracy: 0.9472 - val_loss: 0.5942 - val_accuracy: 0.9406\n",
            "Epoch 100/100\n",
            "32/32 [==============================] - 1s 32ms/step - loss: 0.0882 - accuracy: 0.9687 - val_loss: 0.5530 - val_accuracy: 0.9452\n"
          ]
        }
      ],
      "source": [
        "model_2 = Sequential([\n",
        "    Dense(1000, activation='relu', input_shape=(10,)),\n",
        "    Dense(1000, activation='relu'),\n",
        "    Dense(1000, activation='relu'),\n",
        "    Dense(1000, activation='relu'),\n",
        "    Dense(1, activation='sigmoid'),\n",
        "])\n",
        "\n",
        "model_2.compile(optimizer='adam',\n",
        "              loss='binary_crossentropy',\n",
        "              metrics=['accuracy'])\n",
        "              \n",
        "hist_2 = model_2.fit(X_train, Y_train,\n",
        "          batch_size=32, epochs=100,\n",
        "          validation_data=(X_val, Y_val))"
      ]
    },
    {
      "cell_type": "markdown",
      "metadata": {
        "id": "us31Ct5xyNd2"
      },
      "source": [
        "Here, we’ve made a much larger model and we’ve use the Adam optimizer. Adam is one of the most common optimizers we use, which adds some tweaks to stochastic gradient descent such that it reaches the lower loss function faster. If we run this code and plot the loss graphs for hist_2 using the code below:"
      ]
    },
    {
      "cell_type": "code",
      "execution_count": null,
      "metadata": {
        "colab": {
          "base_uri": "https://localhost:8080/",
          "height": 295
        },
        "id": "q9AuO2hZ5w4r",
        "outputId": "6ad0c61a-3347-437b-9b9b-dc721f6cb903"
      },
      "outputs": [
        {
          "data": {
            "image/png": "[encoded data removed]",
            "text/plain": [
              "<Figure size 432x288 with 1 Axes>"
            ]
          },
          "metadata": {},
          "output_type": "display_data"
        }
      ],
      "source": [
        "plt.plot(hist_2.history['loss'])\n",
        "plt.plot(hist_2.history['val_loss'])\n",
        "plt.title('Model loss')\n",
        "plt.ylabel('Loss')\n",
        "plt.xlabel('Epoch')\n",
        "plt.legend(['Train', 'Val'], loc='upper right')\n",
        "plt.show()"
      ]
    },
    {
      "cell_type": "code",
      "execution_count": null,
      "metadata": {
        "colab": {
          "base_uri": "https://localhost:8080/",
          "height": 295
        },
        "id": "ZMWI_eXo9jCe",
        "outputId": "a21161c3-854f-4d1b-99fd-231ee393a3d3"
      },
      "outputs": [
        {
          "data": {
            "image/png": "[encoded data removed]",
            "text/plain": [
              "<Figure size 432x288 with 1 Axes>"
            ]
          },
          "metadata": {},
          "output_type": "display_data"
        }
      ],
      "source": [
        "plt.plot(hist_2.history['accuracy'])\n",
        "plt.plot(hist_2.history['val_accuracy'])\n",
        "plt.title('Model accuracy')\n",
        "plt.ylabel('Accuracy')\n",
        "plt.xlabel('Epoch')\n",
        "plt.legend(['Train', 'Val'], loc='lower right')\n",
        "plt.show()"
      ]
    },
    {
      "cell_type": "markdown",
      "metadata": {
        "id": "Uv_lHQRXzBMW"
      },
      "source": [
        "Import the code that we need for L2 regularization and dropout:"
      ]
    },
    {
      "cell_type": "code",
      "execution_count": null,
      "metadata": {
        "id": "jGyKUtMd9jIr"
      },
      "outputs": [],
      "source": [
        "from keras.layers import Dropout\n",
        "from keras import regularizers"
      ]
    },
    {
      "cell_type": "markdown",
      "metadata": {
        "id": "ug5mB9YWza5F"
      },
      "source": [
        "We then specify our third model like this:"
      ]
    },
    {
      "cell_type": "code",
      "execution_count": null,
      "metadata": {
        "id": "T3qppK7C9jK3"
      },
      "outputs": [],
      "source": [
        "model_3 = Sequential([\n",
        "    Dense(1000, activation='relu', kernel_regularizer=regularizers.l2(0.01), input_shape=(10,)),\n",
        "    Dropout(0.3),\n",
        "    Dense(1000, activation='relu', kernel_regularizer=regularizers.l2(0.01)),\n",
        "    Dropout(0.3),\n",
        "    Dense(1000, activation='relu', kernel_regularizer=regularizers.l2(0.01)),\n",
        "    Dropout(0.3),\n",
        "    Dense(1000, activation='relu', kernel_regularizer=regularizers.l2(0.01)),\n",
        "    Dropout(0.3),\n",
        "    Dense(1, activation='sigmoid', kernel_regularizer=regularizers.l2(0.01)),\n",
        "])"
      ]
    },
    {
      "cell_type": "code",
      "execution_count": null,
      "metadata": {
        "colab": {
          "base_uri": "https://localhost:8080/"
        },
        "id": "HlsQBWTA9jM5",
        "outputId": "6d7f85d9-0fdb-4dcd-d9aa-5622a2b90ae6"
      },
      "outputs": [
        {
          "name": "stdout",
          "output_type": "stream",
          "text": [
            "Epoch 1/100\n",
            "32/32 [==============================] - 2s 49ms/step - loss: 14.2736 - accuracy: 0.5930 - val_loss: 3.9103 - val_accuracy: 0.8630\n",
            "Epoch 2/100\n",
            "32/32 [==============================] - 1s 42ms/step - loss: 1.6910 - accuracy: 0.8386 - val_loss: 0.6866 - val_accuracy: 0.8356\n",
            "Epoch 3/100\n",
            "32/32 [==============================] - 1s 41ms/step - loss: 0.5876 - accuracy: 0.8523 - val_loss: 0.4918 - val_accuracy: 0.8676\n",
            "Epoch 4/100\n",
            "32/32 [==============================] - 1s 42ms/step - loss: 0.5330 - accuracy: 0.8571 - val_loss: 0.4561 - val_accuracy: 0.8767\n",
            "Epoch 5/100\n",
            "32/32 [==============================] - 1s 41ms/step - loss: 0.4997 - accuracy: 0.8767 - val_loss: 0.4475 - val_accuracy: 0.8858\n",
            "Epoch 6/100\n",
            "32/32 [==============================] - 1s 42ms/step - loss: 0.4879 - accuracy: 0.8689 - val_loss: 0.4321 - val_accuracy: 0.8995\n",
            "Epoch 7/100\n",
            "32/32 [==============================] - 1s 42ms/step - loss: 0.4798 - accuracy: 0.8757 - val_loss: 0.4181 - val_accuracy: 0.9087\n",
            "Epoch 8/100\n",
            "32/32 [==============================] - 1s 42ms/step - loss: 0.4812 - accuracy: 0.8640 - val_loss: 0.4176 - val_accuracy: 0.9178\n",
            "Epoch 9/100\n",
            "32/32 [==============================] - 1s 42ms/step - loss: 0.4835 - accuracy: 0.8738 - val_loss: 0.4792 - val_accuracy: 0.8539\n",
            "Epoch 10/100\n",
            "32/32 [==============================] - 1s 44ms/step - loss: 0.4644 - accuracy: 0.8836 - val_loss: 0.4146 - val_accuracy: 0.9041\n",
            "Epoch 11/100\n",
            "32/32 [==============================] - 1s 44ms/step - loss: 0.4870 - accuracy: 0.8640 - val_loss: 0.4149 - val_accuracy: 0.9178\n",
            "Epoch 12/100\n",
            "32/32 [==============================] - 1s 42ms/step - loss: 0.4918 - accuracy: 0.8659 - val_loss: 0.5508 - val_accuracy: 0.8174\n",
            "Epoch 13/100\n",
            "32/32 [==============================] - 1s 43ms/step - loss: 0.4774 - accuracy: 0.8679 - val_loss: 0.4030 - val_accuracy: 0.9087\n",
            "Epoch 14/100\n",
            "32/32 [==============================] - 1s 42ms/step - loss: 0.4667 - accuracy: 0.8679 - val_loss: 0.3953 - val_accuracy: 0.9132\n",
            "Epoch 15/100\n",
            "32/32 [==============================] - 1s 42ms/step - loss: 0.4636 - accuracy: 0.8796 - val_loss: 0.4000 - val_accuracy: 0.9178\n",
            "Epoch 16/100\n",
            "32/32 [==============================] - 1s 43ms/step - loss: 0.4882 - accuracy: 0.8591 - val_loss: 0.4929 - val_accuracy: 0.8402\n",
            "Epoch 17/100\n",
            "32/32 [==============================] - 1s 42ms/step - loss: 0.4914 - accuracy: 0.8503 - val_loss: 0.4707 - val_accuracy: 0.8539\n",
            "Epoch 18/100\n",
            "32/32 [==============================] - 1s 43ms/step - loss: 0.4558 - accuracy: 0.8816 - val_loss: 0.3896 - val_accuracy: 0.9132\n",
            "Epoch 19/100\n",
            "32/32 [==============================] - 1s 43ms/step - loss: 0.4625 - accuracy: 0.8699 - val_loss: 0.4437 - val_accuracy: 0.8584\n",
            "Epoch 20/100\n",
            "32/32 [==============================] - 1s 42ms/step - loss: 0.4456 - accuracy: 0.8777 - val_loss: 0.3901 - val_accuracy: 0.9178\n",
            "Epoch 21/100\n",
            "32/32 [==============================] - 1s 43ms/step - loss: 0.4596 - accuracy: 0.8904 - val_loss: 0.3858 - val_accuracy: 0.9178\n",
            "Epoch 22/100\n",
            "32/32 [==============================] - 1s 44ms/step - loss: 0.4729 - accuracy: 0.8728 - val_loss: 0.3923 - val_accuracy: 0.9178\n",
            "Epoch 23/100\n",
            "32/32 [==============================] - 1s 43ms/step - loss: 0.4479 - accuracy: 0.8738 - val_loss: 0.4033 - val_accuracy: 0.8995\n",
            "Epoch 24/100\n",
            "32/32 [==============================] - 1s 43ms/step - loss: 0.4586 - accuracy: 0.8748 - val_loss: 0.3937 - val_accuracy: 0.9132\n",
            "Epoch 25/100\n",
            "32/32 [==============================] - 1s 43ms/step - loss: 0.4512 - accuracy: 0.8865 - val_loss: 0.4173 - val_accuracy: 0.8858\n",
            "Epoch 26/100\n",
            "32/32 [==============================] - 1s 42ms/step - loss: 0.4511 - accuracy: 0.8787 - val_loss: 0.3874 - val_accuracy: 0.9087\n",
            "Epoch 27/100\n",
            "32/32 [==============================] - 1s 43ms/step - loss: 0.4745 - accuracy: 0.8757 - val_loss: 0.4619 - val_accuracy: 0.8721\n",
            "Epoch 28/100\n",
            "32/32 [==============================] - 1s 43ms/step - loss: 0.4655 - accuracy: 0.8689 - val_loss: 0.3913 - val_accuracy: 0.9132\n",
            "Epoch 29/100\n",
            "32/32 [==============================] - 1s 44ms/step - loss: 0.4562 - accuracy: 0.8689 - val_loss: 0.4321 - val_accuracy: 0.8630\n",
            "Epoch 30/100\n",
            "32/32 [==============================] - 1s 44ms/step - loss: 0.4723 - accuracy: 0.8777 - val_loss: 0.4142 - val_accuracy: 0.8858\n",
            "Epoch 31/100\n",
            "32/32 [==============================] - 1s 43ms/step - loss: 0.4635 - accuracy: 0.8728 - val_loss: 0.4472 - val_accuracy: 0.8676\n",
            "Epoch 32/100\n",
            "32/32 [==============================] - 1s 43ms/step - loss: 0.4837 - accuracy: 0.8679 - val_loss: 0.3956 - val_accuracy: 0.9132\n",
            "Epoch 33/100\n",
            "32/32 [==============================] - 1s 45ms/step - loss: 0.4555 - accuracy: 0.8718 - val_loss: 0.4358 - val_accuracy: 0.8584\n",
            "Epoch 34/100\n",
            "32/32 [==============================] - 1s 43ms/step - loss: 0.4505 - accuracy: 0.8777 - val_loss: 0.4321 - val_accuracy: 0.8584\n",
            "Epoch 35/100\n",
            "32/32 [==============================] - 1s 43ms/step - loss: 0.4515 - accuracy: 0.8777 - val_loss: 0.4052 - val_accuracy: 0.8995\n",
            "Epoch 36/100\n",
            "32/32 [==============================] - 1s 43ms/step - loss: 0.4511 - accuracy: 0.8777 - val_loss: 0.4039 - val_accuracy: 0.8995\n",
            "Epoch 37/100\n",
            "32/32 [==============================] - 1s 43ms/step - loss: 0.4543 - accuracy: 0.8816 - val_loss: 0.3840 - val_accuracy: 0.9224\n",
            "Epoch 38/100\n",
            "32/32 [==============================] - 1s 43ms/step - loss: 0.4541 - accuracy: 0.8689 - val_loss: 0.4319 - val_accuracy: 0.8630\n",
            "Epoch 39/100\n",
            "32/32 [==============================] - 1s 43ms/step - loss: 0.4549 - accuracy: 0.8689 - val_loss: 0.3874 - val_accuracy: 0.9132\n",
            "Epoch 40/100\n",
            "32/32 [==============================] - 1s 42ms/step - loss: 0.4539 - accuracy: 0.8738 - val_loss: 0.3826 - val_accuracy: 0.9178\n",
            "Epoch 41/100\n",
            "32/32 [==============================] - 1s 42ms/step - loss: 0.4422 - accuracy: 0.8894 - val_loss: 0.3924 - val_accuracy: 0.9132\n",
            "Epoch 42/100\n",
            "32/32 [==============================] - 1s 43ms/step - loss: 0.4408 - accuracy: 0.8845 - val_loss: 0.3824 - val_accuracy: 0.9224\n",
            "Epoch 43/100\n",
            "32/32 [==============================] - 1s 43ms/step - loss: 0.4590 - accuracy: 0.8728 - val_loss: 0.4461 - val_accuracy: 0.8539\n",
            "Epoch 44/100\n",
            "32/32 [==============================] - 1s 43ms/step - loss: 0.4460 - accuracy: 0.8669 - val_loss: 0.4317 - val_accuracy: 0.8721\n",
            "Epoch 45/100\n",
            "32/32 [==============================] - 1s 44ms/step - loss: 0.4499 - accuracy: 0.8748 - val_loss: 0.4678 - val_accuracy: 0.8493\n",
            "Epoch 46/100\n",
            "32/32 [==============================] - 1s 43ms/step - loss: 0.4564 - accuracy: 0.8650 - val_loss: 0.3819 - val_accuracy: 0.9178\n",
            "Epoch 47/100\n",
            "32/32 [==============================] - 1s 42ms/step - loss: 0.4473 - accuracy: 0.8787 - val_loss: 0.4395 - val_accuracy: 0.8584\n",
            "Epoch 48/100\n",
            "32/32 [==============================] - 1s 42ms/step - loss: 0.4529 - accuracy: 0.8728 - val_loss: 0.3767 - val_accuracy: 0.9178\n",
            "Epoch 49/100\n",
            "32/32 [==============================] - 1s 42ms/step - loss: 0.4463 - accuracy: 0.8777 - val_loss: 0.3797 - val_accuracy: 0.9178\n",
            "Epoch 50/100\n",
            "32/32 [==============================] - 1s 42ms/step - loss: 0.4416 - accuracy: 0.8806 - val_loss: 0.4066 - val_accuracy: 0.8904\n",
            "Epoch 51/100\n",
            "32/32 [==============================] - 1s 43ms/step - loss: 0.4506 - accuracy: 0.8777 - val_loss: 0.3894 - val_accuracy: 0.9087\n",
            "Epoch 52/100\n",
            "32/32 [==============================] - 1s 43ms/step - loss: 0.4372 - accuracy: 0.8787 - val_loss: 0.4115 - val_accuracy: 0.8858\n",
            "Epoch 53/100\n",
            "32/32 [==============================] - 1s 42ms/step - loss: 0.4754 - accuracy: 0.8630 - val_loss: 0.3819 - val_accuracy: 0.9178\n",
            "Epoch 54/100\n",
            "32/32 [==============================] - 1s 44ms/step - loss: 0.4427 - accuracy: 0.8816 - val_loss: 0.3848 - val_accuracy: 0.9132\n",
            "Epoch 55/100\n",
            "32/32 [==============================] - 1s 43ms/step - loss: 0.4508 - accuracy: 0.8748 - val_loss: 0.3790 - val_accuracy: 0.9087\n",
            "Epoch 56/100\n",
            "32/32 [==============================] - 1s 42ms/step - loss: 0.4428 - accuracy: 0.8718 - val_loss: 0.3835 - val_accuracy: 0.9132\n",
            "Epoch 57/100\n",
            "32/32 [==============================] - 1s 42ms/step - loss: 0.4434 - accuracy: 0.8699 - val_loss: 0.3770 - val_accuracy: 0.9132\n",
            "Epoch 58/100\n",
            "32/32 [==============================] - 2s 49ms/step - loss: 0.4513 - accuracy: 0.8728 - val_loss: 0.4886 - val_accuracy: 0.8447\n",
            "Epoch 59/100\n",
            "32/32 [==============================] - 1s 43ms/step - loss: 0.4521 - accuracy: 0.8679 - val_loss: 0.3909 - val_accuracy: 0.9087\n",
            "Epoch 60/100\n",
            "32/32 [==============================] - 1s 43ms/step - loss: 0.4538 - accuracy: 0.8816 - val_loss: 0.4119 - val_accuracy: 0.8904\n",
            "Epoch 61/100\n",
            "32/32 [==============================] - 1s 42ms/step - loss: 0.4464 - accuracy: 0.8738 - val_loss: 0.3805 - val_accuracy: 0.9178\n",
            "Epoch 62/100\n",
            "32/32 [==============================] - 1s 42ms/step - loss: 0.4620 - accuracy: 0.8659 - val_loss: 0.3955 - val_accuracy: 0.9041\n",
            "Epoch 63/100\n",
            "32/32 [==============================] - 1s 42ms/step - loss: 0.4591 - accuracy: 0.8718 - val_loss: 0.4888 - val_accuracy: 0.8493\n",
            "Epoch 64/100\n",
            "32/32 [==============================] - 1s 43ms/step - loss: 0.4686 - accuracy: 0.8640 - val_loss: 0.4480 - val_accuracy: 0.8539\n",
            "Epoch 65/100\n",
            "32/32 [==============================] - 1s 44ms/step - loss: 0.4428 - accuracy: 0.8826 - val_loss: 0.3981 - val_accuracy: 0.9041\n",
            "Epoch 66/100\n",
            "32/32 [==============================] - 1s 43ms/step - loss: 0.4375 - accuracy: 0.8933 - val_loss: 0.3745 - val_accuracy: 0.9224\n",
            "Epoch 67/100\n",
            "32/32 [==============================] - 1s 43ms/step - loss: 0.4547 - accuracy: 0.8689 - val_loss: 0.4611 - val_accuracy: 0.8539\n",
            "Epoch 68/100\n",
            "32/32 [==============================] - 1s 44ms/step - loss: 0.4439 - accuracy: 0.8855 - val_loss: 0.4222 - val_accuracy: 0.8767\n",
            "Epoch 69/100\n",
            "32/32 [==============================] - 1s 44ms/step - loss: 0.4576 - accuracy: 0.8679 - val_loss: 0.4048 - val_accuracy: 0.8950\n",
            "Epoch 70/100\n",
            "32/32 [==============================] - 1s 44ms/step - loss: 0.4442 - accuracy: 0.8816 - val_loss: 0.3739 - val_accuracy: 0.9178\n",
            "Epoch 71/100\n",
            "32/32 [==============================] - 1s 43ms/step - loss: 0.4395 - accuracy: 0.8757 - val_loss: 0.3802 - val_accuracy: 0.9178\n",
            "Epoch 72/100\n",
            "32/32 [==============================] - 1s 43ms/step - loss: 0.4337 - accuracy: 0.8924 - val_loss: 0.3873 - val_accuracy: 0.8995\n",
            "Epoch 73/100\n",
            "32/32 [==============================] - 1s 45ms/step - loss: 0.4459 - accuracy: 0.8787 - val_loss: 0.3837 - val_accuracy: 0.9178\n",
            "Epoch 74/100\n",
            "32/32 [==============================] - 1s 43ms/step - loss: 0.4698 - accuracy: 0.8659 - val_loss: 0.4527 - val_accuracy: 0.8584\n",
            "Epoch 75/100\n",
            "32/32 [==============================] - 1s 44ms/step - loss: 0.4627 - accuracy: 0.8659 - val_loss: 0.4175 - val_accuracy: 0.8813\n",
            "Epoch 76/100\n",
            "32/32 [==============================] - 1s 44ms/step - loss: 0.4402 - accuracy: 0.8787 - val_loss: 0.3986 - val_accuracy: 0.8995\n",
            "Epoch 77/100\n",
            "32/32 [==============================] - 1s 43ms/step - loss: 0.4441 - accuracy: 0.8777 - val_loss: 0.3808 - val_accuracy: 0.9132\n",
            "Epoch 78/100\n",
            "32/32 [==============================] - 1s 43ms/step - loss: 0.4469 - accuracy: 0.8826 - val_loss: 0.3861 - val_accuracy: 0.8995\n",
            "Epoch 79/100\n",
            "32/32 [==============================] - 1s 44ms/step - loss: 0.4521 - accuracy: 0.8708 - val_loss: 0.4030 - val_accuracy: 0.8904\n",
            "Epoch 80/100\n",
            "32/32 [==============================] - 1s 43ms/step - loss: 0.4441 - accuracy: 0.8767 - val_loss: 0.4037 - val_accuracy: 0.8950\n",
            "Epoch 81/100\n",
            "32/32 [==============================] - 1s 45ms/step - loss: 0.4342 - accuracy: 0.8826 - val_loss: 0.4018 - val_accuracy: 0.8950\n",
            "Epoch 82/100\n",
            "32/32 [==============================] - 1s 44ms/step - loss: 0.4411 - accuracy: 0.8748 - val_loss: 0.3875 - val_accuracy: 0.9087\n",
            "Epoch 83/100\n",
            "32/32 [==============================] - 1s 45ms/step - loss: 0.4705 - accuracy: 0.8757 - val_loss: 0.4297 - val_accuracy: 0.8721\n",
            "Epoch 84/100\n",
            "32/32 [==============================] - 1s 44ms/step - loss: 0.4587 - accuracy: 0.8728 - val_loss: 0.3772 - val_accuracy: 0.9178\n",
            "Epoch 85/100\n",
            "32/32 [==============================] - 1s 43ms/step - loss: 0.4398 - accuracy: 0.8708 - val_loss: 0.3875 - val_accuracy: 0.8904\n",
            "Epoch 86/100\n",
            "32/32 [==============================] - 1s 44ms/step - loss: 0.4535 - accuracy: 0.8738 - val_loss: 0.4004 - val_accuracy: 0.8995\n",
            "Epoch 87/100\n",
            "32/32 [==============================] - 1s 43ms/step - loss: 0.4613 - accuracy: 0.8689 - val_loss: 0.3874 - val_accuracy: 0.9178\n",
            "Epoch 88/100\n",
            "32/32 [==============================] - 1s 44ms/step - loss: 0.4451 - accuracy: 0.8845 - val_loss: 0.3813 - val_accuracy: 0.9132\n",
            "Epoch 89/100\n",
            "32/32 [==============================] - 1s 44ms/step - loss: 0.4384 - accuracy: 0.8757 - val_loss: 0.3812 - val_accuracy: 0.9178\n",
            "Epoch 90/100\n",
            "32/32 [==============================] - 1s 44ms/step - loss: 0.4370 - accuracy: 0.8816 - val_loss: 0.3780 - val_accuracy: 0.9132\n",
            "Epoch 91/100\n",
            "32/32 [==============================] - 1s 44ms/step - loss: 0.4376 - accuracy: 0.8865 - val_loss: 0.3847 - val_accuracy: 0.9041\n",
            "Epoch 92/100\n",
            "32/32 [==============================] - 1s 44ms/step - loss: 0.4505 - accuracy: 0.8708 - val_loss: 0.4027 - val_accuracy: 0.8995\n",
            "Epoch 93/100\n",
            "32/32 [==============================] - 1s 44ms/step - loss: 0.4596 - accuracy: 0.8699 - val_loss: 0.3838 - val_accuracy: 0.9178\n",
            "Epoch 94/100\n",
            "32/32 [==============================] - 1s 44ms/step - loss: 0.4495 - accuracy: 0.8806 - val_loss: 0.3774 - val_accuracy: 0.9132\n",
            "Epoch 95/100\n",
            "32/32 [==============================] - 1s 45ms/step - loss: 0.4599 - accuracy: 0.8748 - val_loss: 0.3972 - val_accuracy: 0.8995\n",
            "Epoch 96/100\n",
            "32/32 [==============================] - 1s 45ms/step - loss: 0.4490 - accuracy: 0.8748 - val_loss: 0.4076 - val_accuracy: 0.8904\n",
            "Epoch 97/100\n",
            "32/32 [==============================] - 1s 46ms/step - loss: 0.4511 - accuracy: 0.8757 - val_loss: 0.4197 - val_accuracy: 0.8721\n",
            "Epoch 98/100\n",
            "32/32 [==============================] - 1s 46ms/step - loss: 0.4492 - accuracy: 0.8806 - val_loss: 0.3791 - val_accuracy: 0.9041\n",
            "Epoch 99/100\n",
            "32/32 [==============================] - 1s 45ms/step - loss: 0.4418 - accuracy: 0.8777 - val_loss: 0.3794 - val_accuracy: 0.9224\n",
            "Epoch 100/100\n",
            "32/32 [==============================] - 1s 45ms/step - loss: 0.4394 - accuracy: 0.8826 - val_loss: 0.3903 - val_accuracy: 0.8995\n"
          ]
        }
      ],
      "source": [
        "model_3.compile(optimizer='adam',\n",
        "              loss='binary_crossentropy',\n",
        "              metrics=['accuracy'])\n",
        "              \n",
        "hist_3 = model_3.fit(X_train, Y_train,\n",
        "          batch_size=32, epochs=100,\n",
        "          validation_data=(X_val, Y_val))"
      ]
    },
    {
      "cell_type": "code",
      "execution_count": null,
      "metadata": {
        "colab": {
          "base_uri": "https://localhost:8080/",
          "height": 295
        },
        "id": "0dPtNTNb90RQ",
        "outputId": "042920f7-8f6d-40ca-b9a4-8271e77226e6"
      },
      "outputs": [
        {
          "data": {
            "image/png": "[encoded data removed]",
            "text/plain": [
              "<Figure size 432x288 with 1 Axes>"
            ]
          },
          "metadata": {},
          "output_type": "display_data"
        }
      ],
      "source": [
        "plt.plot(hist_3.history['loss'])\n",
        "plt.plot(hist_3.history['val_loss'])\n",
        "plt.title('Model loss')\n",
        "plt.ylabel('Loss')\n",
        "plt.xlabel('Epoch')\n",
        "plt.legend(['Train', 'Val'], loc='upper right')\n",
        "plt.ylim(top=1.2, bottom=0)\n",
        "plt.show()"
      ]
    },
    {
      "cell_type": "code",
      "execution_count": null,
      "metadata": {
        "colab": {
          "base_uri": "https://localhost:8080/",
          "height": 295
        },
        "id": "o1E1WnHL90TC",
        "outputId": "5272244d-6d3d-4333-fa6b-e1465760d573"
      },
      "outputs": [
        {
          "data": {
            "image/png": "[encoded data removed]",
            "text/plain": [
              "<Figure size 432x288 with 1 Axes>"
            ]
          },
          "metadata": {},
          "output_type": "display_data"
        }
      ],
      "source": [
        "plt.plot(hist_3.history['accuracy'])\n",
        "plt.plot(hist_3.history['val_accuracy'])\n",
        "plt.title('Model accuracy')\n",
        "plt.ylabel('Accuracy')\n",
        "plt.xlabel('Epoch')\n",
        "plt.legend(['Train', 'Val'], loc='lower right')\n",
        "plt.show()"
      ]
    },
    {
      "cell_type": "markdown",
      "metadata": {
        "id": "hN2KkTDqGCLD"
      },
      "source": [
        "# TESTING"
      ]
    },
    {
      "cell_type": "code",
      "execution_count": null,
      "metadata": {
        "id": "XFQS2zl9GHa0"
      },
      "outputs": [],
      "source": [
        "import numpy as np\n",
        "from keras.datasets import mnist\n",
        "from sklearn.model_selection import train_test_split\n",
        "from keras.models import Sequential\n",
        "from keras.layers import Dense\n",
        "from keras.layers import Dropout"
      ]
    },
    {
      "cell_type": "code",
      "execution_count": null,
      "metadata": {
        "colab": {
          "base_uri": "https://localhost:8080/"
        },
        "id": "MdU58V5mHPXW",
        "outputId": "e726e700-5649-45c4-9541-9f03634f6978"
      },
      "outputs": [
        {
          "name": "stdout",
          "output_type": "stream",
          "text": [
            "Downloading data from https://storage.googleapis.com/tensorflow/tf-keras-datasets/mnist.npz\n",
            "11493376/11490434 [==============================] - 0s 0us/step\n",
            "11501568/11490434 [==============================] - 0s 0us/step\n"
          ]
        }
      ],
      "source": [
        "(X_train, y_train), (X_test, y_test) = mnist.load_data()"
      ]
    },
    {
      "cell_type": "code",
      "execution_count": null,
      "metadata": {
        "id": "VpkZm2GfHQGI"
      },
      "outputs": [],
      "source": [
        "model = Sequential()"
      ]
    },
    {
      "cell_type": "code",
      "execution_count": null,
      "metadata": {
        "colab": {
          "base_uri": "https://localhost:8080/"
        },
        "id": "xPx6k9IpHntd",
        "outputId": "54a4ae5e-df63-404a-f4c4-dc9b3e3c9fa2"
      },
      "outputs": [
        {
          "name": "stdout",
          "output_type": "stream",
          "text": [
            "[[[ 0.          0.          0.         ...  0.          0.\n",
            "    0.        ]\n",
            "  [ 0.          0.          0.         ...  0.          0.\n",
            "    0.        ]\n",
            "  [ 0.          0.          0.         ...  0.          0.\n",
            "    0.        ]\n",
            "  ...\n",
            "  [ 0.          0.          0.         ...  0.          0.\n",
            "    0.        ]\n",
            "  [ 0.          0.          5.223998   ...  0.          0.\n",
            "    0.16727924]\n",
            "  [ 0.          0.          0.         ...  0.          0.\n",
            "    0.        ]]\n",
            "\n",
            " [[ 0.          0.          0.         ...  0.          0.\n",
            "    0.        ]\n",
            "  [ 0.          0.          0.         ...  0.          0.\n",
            "    0.        ]\n",
            "  [ 0.          0.          0.         ...  0.          0.\n",
            "    0.        ]\n",
            "  ...\n",
            "  [ 0.          0.          0.         ...  0.          0.\n",
            "    0.        ]\n",
            "  [ 0.          0.          0.         ...  0.          0.\n",
            "    0.        ]\n",
            "  [ 0.          0.          0.         ...  0.          0.\n",
            "    0.        ]]\n",
            "\n",
            " [[ 0.          0.          0.         ...  0.          0.\n",
            "    0.        ]\n",
            "  [ 0.          0.          0.         ...  0.          0.\n",
            "    0.        ]\n",
            "  [ 0.          0.          0.         ...  0.          0.\n",
            "    0.        ]\n",
            "  ...\n",
            "  [ 0.          0.          0.         ...  0.          0.\n",
            "    0.        ]\n",
            "  [ 0.          0.          0.         ...  0.          0.\n",
            "    0.        ]\n",
            "  [ 0.          0.          0.         ...  0.          0.\n",
            "    0.        ]]\n",
            "\n",
            " ...\n",
            "\n",
            " [[ 0.          0.          0.         ...  0.          0.\n",
            "    0.        ]\n",
            "  [ 0.          0.          0.         ...  0.          0.\n",
            "    0.        ]\n",
            "  [ 0.          0.          0.         ...  0.          0.\n",
            "    0.        ]\n",
            "  ...\n",
            "  [ 0.          0.          4.8170805  ...  0.          0.\n",
            "    2.409667  ]\n",
            "  [ 0.          0.          0.         ...  0.          0.\n",
            "    0.        ]\n",
            "  [ 0.          0.          0.         ...  0.          0.\n",
            "    0.        ]]\n",
            "\n",
            " [[ 0.          0.          0.         ...  0.          0.\n",
            "    0.        ]\n",
            "  [ 0.          0.          0.         ...  0.          0.\n",
            "    0.        ]\n",
            "  [ 0.          0.          0.         ...  0.          0.\n",
            "    0.        ]\n",
            "  ...\n",
            "  [ 0.          0.          0.         ...  0.          0.\n",
            "    0.        ]\n",
            "  [ 0.          0.          0.         ...  0.          0.\n",
            "    0.        ]\n",
            "  [ 0.          0.          0.         ...  0.          0.\n",
            "    0.        ]]\n",
            "\n",
            " [[ 0.          0.          0.         ...  0.          0.\n",
            "    0.        ]\n",
            "  [ 0.          0.          0.         ...  0.          0.\n",
            "    0.        ]\n",
            "  [ 0.         27.737934   13.8867035  ...  0.          0.\n",
            "    0.        ]\n",
            "  ...\n",
            "  [ 0.          0.          0.         ...  0.          0.\n",
            "    0.        ]\n",
            "  [ 0.          0.          0.         ...  0.          0.\n",
            "    0.        ]\n",
            "  [ 0.          0.          0.         ...  0.          0.\n",
            "    0.        ]]]\n"
          ]
        }
      ],
      "source": [
        "y_pred = model.predict(X_test)\n",
        "print(y_pred)"
      ]
    },
    {
      "cell_type": "code",
      "execution_count": null,
      "metadata": {
        "colab": {
          "base_uri": "https://localhost:8080/"
        },
        "id": "io3rqSbXKLhC",
        "outputId": "b7288b0a-77aa-41f5-a2bb-ab3db322fd03"
      },
      "outputs": [
        {
          "data": {
            "text/plain": [
              "array([0.02643203, 0.66666667, 0.5       , 0.22389525, 0.66666667,\n",
              "       0.        , 0.25      , 0.33333333, 0.33333333, 0.33427362])"
            ]
          },
          "execution_count": 91,
          "metadata": {},
          "output_type": "execute_result"
        }
      ],
      "source": [
        "X_train[0]"
      ]
    },
    {
      "cell_type": "code",
      "execution_count": null,
      "metadata": {
        "colab": {
          "base_uri": "https://localhost:8080/"
        },
        "id": "uzAnDzrjKLjl",
        "outputId": "8b0544da-617a-48a9-cad4-8cc8a1c51559"
      },
      "outputs": [
        {
          "data": {
            "text/plain": [
              "1"
            ]
          },
          "execution_count": 129,
          "metadata": {},
          "output_type": "execute_result"
        }
      ],
      "source": [
        "Y_train[0]"
      ]
    },
    {
      "cell_type": "code",
      "execution_count": null,
      "metadata": {
        "colab": {
          "base_uri": "https://localhost:8080/"
        },
        "id": "pesL3MKeKLmx",
        "outputId": "88e69510-ceb0-4587-d5e3-342f7fa53958"
      },
      "outputs": [
        {
          "data": {
            "text/plain": [
              "array([1, 0, 1, 1, 1, 0, 0, 1, 0, 0, 1, 1, 1, 1, 0, 0, 1, 0, 0, 1, 1, 0,\n",
              "       1, 1, 0, 0, 1, 1, 0, 0, 0, 1, 0, 1, 0, 0, 1, 1, 0, 0, 1, 0, 0, 1,\n",
              "       0, 1, 0, 1, 1, 0, 0, 0, 1, 1, 0, 0, 0, 1, 1, 1, 1, 0, 0, 1, 1, 1,\n",
              "       0, 0, 1, 1, 0, 0, 0, 0, 0, 1, 1, 0, 1, 1, 1, 0, 1, 1, 0, 1, 0, 0,\n",
              "       0, 1, 0, 1, 0, 0, 1, 1, 0, 0, 1, 0])"
            ]
          },
          "execution_count": 130,
          "metadata": {},
          "output_type": "execute_result"
        }
      ],
      "source": [
        "Y_train[:100]"
      ]
    },
    {
      "cell_type": "markdown",
      "metadata": {
        "id": "rpd7jWyn6meQ"
      },
      "source": [
        "\n",
        "# SUMMARY\n"
      ]
    },
    {
      "cell_type": "markdown",
      "metadata": {
        "id": "jbFaaGAi6y0a"
      },
      "source": [
        "In this project, we follwed following procedure :\n",
        "\n",
        "\n",
        "\n",
        "---\n",
        "\n",
        "\n",
        "\n",
        "*   Explore and process the data\n",
        "*   Build and train our neural network\n",
        "*   Visualize loss and accuracy\n",
        "*   Add regularization to our neural network\n",
        "\n",
        "\n",
        "To deal with overfitting, we can code in the folowing strategies into our model each with about one line of code.\n",
        "\n",
        "\n",
        "\n",
        "*   L2 Regularization\n",
        "*   Dropout\n",
        "\n",
        "---\n",
        "\n",
        " In this way we apply our regularization techniques ton reduce overfitting to the training set.\n",
        "\n",
        "\n",
        "\n",
        "\n",
        "\n"
      ]
    }
  ],
  "metadata": {
    "colab": {
      "collapsed_sections": [],
      "name": "Untitled0.ipynb",
      "provenance": []
    },
    "kernelspec": {
      "display_name": "Python 3",
      "name": "python3"
    },
    "language_info": {
      "name": "python"
    }
  },
  "nbformat": 4,
  "nbformat_minor": 0
}